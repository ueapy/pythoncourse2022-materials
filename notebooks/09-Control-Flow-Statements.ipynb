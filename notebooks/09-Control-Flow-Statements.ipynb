{
 "cells": [
  {
   "cell_type": "markdown",
   "metadata": {
    "slideshow": {
     "slide_type": "slide"
    }
   },
   "source": [
    "# Control Flow\n",
    "Lecture 1: Everything up to iterators  \n",
    "Lecture 2: iterators onwards"
   ]
  },
  {
   "cell_type": "markdown",
   "metadata": {
    "slideshow": {
     "slide_type": "subslide"
    }
   },
   "source": [
    "*Control flow* means controlling how python works its way through a program.\n",
    "Without control flow, a program is a list of statements that are sequentially executed.\n",
    "With control flow, you can execute code blocks conditionally and/or repeatedly. The basic building blocks are:  \n",
    "- conditional statements (including \"`if`\", \"`elif`\", and \"`else`\")\n",
    "- loop statements (including \"`for`\" and \"`while`\" and the accompanying \"`break`\", \"`continue`\", and \"`pass`\")."
   ]
  },
  {
   "cell_type": "markdown",
   "metadata": {
    "slideshow": {
     "slide_type": "slide"
    }
   },
   "source": [
    "## Conditional Statements: `if-elif-else`:"
   ]
  },
  {
   "cell_type": "markdown",
   "metadata": {},
   "source": [
    "Conditional statements, often referred to as *if-then* statements, allow the programmer to execute certain pieces of code depending on a condition. The basic syntax is conditional keyword (like ``if``) + conditional statement + colon, followed by an indented code block to execute if the condition is true."
   ]
  },
  {
   "cell_type": "code",
   "execution_count": null,
   "metadata": {},
   "outputs": [],
   "source": [
    "foo = 'bar'\n",
    "\n",
    "# The 'if' statment will set a criteria, and 'if' the condition is met, it will print 'Condition satisfied'\n",
    "if foo == 'bar':\n",
    "    print('Condition satisfied')\n",
    "    \n",
    "# If the 'if' condition isn't met, the code in the indented block *won't* be executed\n",
    "if foo == 'baz':\n",
    "    print(\"It's baz instead\")"
   ]
  },
  {
   "cell_type": "markdown",
   "metadata": {},
   "source": [
    "**Python conditional statements involve an ``if``, zero or more ``elif`` parts, and an optional final ``else``.**"
   ]
  },
  {
   "cell_type": "markdown",
   "metadata": {},
   "source": [
    "Different conditions can be added using ``elif`` (else if), and a final catch-all condition can be added using ``else``. You can have as many ``elif`` statements after the initial ``if`` as you want, but you only ever use one ``else``."
   ]
  },
  {
   "cell_type": "code",
   "execution_count": null,
   "metadata": {},
   "outputs": [],
   "source": [
    "from IPython.core.display import Image\n",
    "Image('https://i.redd.it/f2ezpunnypa81.jpg')"
   ]
  },
  {
   "cell_type": "markdown",
   "metadata": {},
   "source": [
    "Note the use of colons (``:``) and whitespace (tab) to indent the conditional blocks of code."
   ]
  },
  {
   "cell_type": "code",
   "execution_count": null,
   "metadata": {
    "slideshow": {
     "slide_type": "subslide"
    }
   },
   "outputs": [],
   "source": [
    "x = -15\n",
    "\n",
    "# If x is equal to zero print x, \"is zero\"\n",
    "if x == 0:\n",
    "    print(x, \"is zero\")\n",
    "    \n",
    "# Other wise if x is greater than zero print x, \"is positive\"\n",
    "elif x > 0:\n",
    "    print(x, \"is positive\")\n",
    "    \n",
    "# If all else fails print x, \"is negative\"\n",
    "else:\n",
    "    print(x, \"is negative\")"
   ]
  },
  {
   "cell_type": "markdown",
   "metadata": {},
   "source": [
    "### Exercise 1\n",
    "1. Duplicate the `if/elif/else` code cell and paste it below this cell:\n",
    "    - select the cell above in command mode [blue outline]\n",
    "        - either click roughly where the `In []` is (immediately enter command mode) or click in the code text (enter edit mode) and press escape\n",
    "    - press c to copy\n",
    "    - press down to select this cell\n",
    "    - press v to paste below this cell\n",
    "    \n",
    "    \n",
    "2. In your newly copied cell add an extra elif clause that prints \"x is very negative\" if x is less than -10.  \n",
    "\n",
    "3. Change the else clause to print \"x is a little bit negative\"."
   ]
  },
  {
   "cell_type": "markdown",
   "metadata": {},
   "source": [
    "### `and` and `or`"
   ]
  },
  {
   "cell_type": "markdown",
   "metadata": {},
   "source": [
    "What if you have two conditions that are True? "
   ]
  },
  {
   "cell_type": "code",
   "execution_count": null,
   "metadata": {},
   "outputs": [],
   "source": [
    "x = -15\n",
    "\n",
    "if x % 3 == 0:\n",
    "    print(x, \"is divisible by three.\")\n",
    "elif x < 0:\n",
    "    print(x, \"is negative.\")\n",
    "else:\n",
    "    print(x, \"is something else.\")"
   ]
  },
  {
   "cell_type": "markdown",
   "metadata": {},
   "source": [
    "While both the 'if' and 'elif' condition are true, python ignored the second condition because the first condition had already been satisfied. `if/elif/else` statements are worked through in strict order.\n",
    "\n",
    "If you want it to recognise both conditions there are two ways depending on what exactly you want to achieve:  \n",
    "1. Use two if-statements, no elif (like in the first cell in this notebook):"
   ]
  },
  {
   "cell_type": "code",
   "execution_count": null,
   "metadata": {},
   "outputs": [],
   "source": [
    "x = -15\n",
    "\n",
    "if x % 3 == 0:\n",
    "    print(x, \"is divisible by three.\")\n",
    "if x < 0:\n",
    "    print(x, \"is negative.\") "
   ]
  },
  {
   "cell_type": "markdown",
   "metadata": {},
   "source": [
    "2. Use one if-statement with ``and``:"
   ]
  },
  {
   "cell_type": "code",
   "execution_count": null,
   "metadata": {},
   "outputs": [],
   "source": [
    "x = -15\n",
    "\n",
    "if x % 3 == 0 and x < 0:\n",
    "    print(x, \"is both negative and divisible by 3.\")"
   ]
  },
  {
   "cell_type": "markdown",
   "metadata": {},
   "source": [
    "If you wanted to have an action done if only one of the two conditions are true, and both are equally important, then you can use ``or``."
   ]
  },
  {
   "cell_type": "code",
   "execution_count": null,
   "metadata": {},
   "outputs": [],
   "source": [
    "x = 15\n",
    "\n",
    "if x % 3 == 0 or x < 0:\n",
    "    print(x, \"is either negative or divisible by 3.\")"
   ]
  },
  {
   "cell_type": "markdown",
   "metadata": {},
   "source": [
    "###  Exercise 2\n",
    "Create an empty code cell below this one (select this cell in command mode [blue outline] and press 'b').\n",
    "1. Define a variable `name` which is a string of your name.\n",
    "2. Write a conditional statement that checks whether `name` is a string and if so prints \"That's a string!\". Check this works.\n",
    "    - How do you check the type of a variable?\n",
    "    \n",
    "    \n",
    "3. Below your first conditional statement write a new one that checks for the following conditions in order:\n",
    "\n",
    "    - `name` is not a string: print \"That's not a string!\"\n",
    "    - `name` is a string but not your name: print \"It's a string but it's not my name!\"\n",
    "    - `name` is a string and your name: print \"That's a string and it is my name!\"\n",
    "    - None of the above are true: print \"I have no idea what you entered\"\n",
    "    \n",
    "    \n",
    "4. Try changing `name` to each of the different cases and making sure it works for all of them.\n",
    "\n",
    "#### Extension\n",
    "Create another blank code cell below the one you've just finished.  \n",
    "\n",
    "5. Create a variable called `my_id` and define it as either an integer or a string  \n",
    "6. Write a conditional statement that checks if `my_id` is an integer or a string and if so prints \"That's a valid id\"\n",
    "\n",
    "#### Extension extension\n",
    "Create another blank code cell below the one you've just finished.\n",
    "\n",
    "7. Create a variable called age that asks for user input for the question \"What's your age?\"\n",
    "    - What's the function to ask for user input?\n",
    "8. Write a conditional statement that checks the following conditions:  \n",
    "    - if you can convert age to an integer and if it's greater than 0: if so print \"Your age is {age}\".  \n",
    "    - otherwise print \"Sorry I didn't understand your input\""
   ]
  },
  {
   "cell_type": "markdown",
   "metadata": {
    "slideshow": {
     "slide_type": "slide"
    }
   },
   "source": [
    "## `for` loops\n",
    "Loops in Python are a way to repeatedly execute some code statement. They are an extremely helpful tool which avoid us having to write out each line, but can also be computationally demanding! (see the numpy/array lectures tomorrow for ways around this)."
   ]
  },
  {
   "cell_type": "markdown",
   "metadata": {
    "slideshow": {
     "slide_type": "fragment"
    }
   },
   "source": [
    "We can use a ``for`` loop to print each item in a list:"
   ]
  },
  {
   "cell_type": "code",
   "execution_count": null,
   "metadata": {
    "scrolled": true
   },
   "outputs": [],
   "source": [
    "for i in [2, 3, 5, 7]: \n",
    "    print(i) "
   ]
  },
  {
   "cell_type": "markdown",
   "metadata": {
    "slideshow": {
     "slide_type": "skip"
    }
   },
   "source": [
    "What we are doing here is assigning 'i' to each number in the list [2,3,5,7] in order, then printing the output.  \n",
    "Each number you printed has been placed on a new line. This shows the loop has restarted on the next value in the list. "
   ]
  },
  {
   "cell_type": "code",
   "execution_count": null,
   "metadata": {},
   "outputs": [],
   "source": [
    "Image('https://i.imgur.com/bF8SNro.png')"
   ]
  },
  {
   "cell_type": "markdown",
   "metadata": {
    "slideshow": {
     "slide_type": "skip"
    }
   },
   "source": [
    "#### You can execute whatever code you like in the for loop\n",
    "Say we want to print out the squares of all the numbers in the list. We can define a new variable `x` that's equal to i$^2$ then print `x`.  \n",
    "We can print all the numbers of the same line by telling print() to print each number followed by a '&nbsp; ' rather than a new line character ('\\n')."
   ]
  },
  {
   "cell_type": "code",
   "execution_count": null,
   "metadata": {
    "slideshow": {
     "slide_type": "skip"
    }
   },
   "outputs": [],
   "source": [
    "for i in [2, 3, 5, 7]: # you can replace 'i' with anything you like, but make sure to replace it in the loop too!\n",
    "    x = i ** 2\n",
    "    print(x, end=' ') # print all on same line"
   ]
  },
  {
   "cell_type": "markdown",
   "metadata": {},
   "source": [
    "What do you think the code block below will do?"
   ]
  },
  {
   "cell_type": "code",
   "execution_count": null,
   "metadata": {
    "slideshow": {
     "slide_type": "skip"
    }
   },
   "outputs": [],
   "source": [
    "for N in [2, 3, 5, 7]:\n",
    "    x = N**2\n",
    "    print(x, end=' ') # print all on same line\n",
    "print(x)"
   ]
  },
  {
   "cell_type": "markdown",
   "metadata": {},
   "source": [
    "### Exercise 3\n",
    "Create a new code cell below this one.\n",
    "1. Create a variable called `total` that's equal to 0.\n",
    "2. Write a for loop that adds each number in the list [0, 1, 1, 2, 3, 5, 7] to `total` and prints \"subtotal is {total}\" at each step.\n",
    "3. After the for loop print \"Grand total is {total}\"."
   ]
  },
  {
   "cell_type": "markdown",
   "metadata": {},
   "source": [
    "### List comprehensions"
   ]
  },
  {
   "cell_type": "markdown",
   "metadata": {},
   "source": [
    "A list comprehension is a way of creating a list by looping through an object. They came up in `07-Built in data structures`. They can be a neat way to generate a list, but remember that readability is important and sometimes a for loop might give more clarity."
   ]
  },
  {
   "cell_type": "code",
   "execution_count": null,
   "metadata": {},
   "outputs": [],
   "source": [
    "numbers = [x ** 2 for x in [0,1,2,3]]\n",
    "print(numbers)"
   ]
  },
  {
   "cell_type": "markdown",
   "metadata": {
    "slideshow": {
     "slide_type": "slide"
    }
   },
   "source": [
    "##  Using ``range(start, stop[, step])`` \n",
    "One of the most commonly-used iterators in Python is the ``range`` object, which generates a sequence of numbers:"
   ]
  },
  {
   "cell_type": "code",
   "execution_count": null,
   "metadata": {},
   "outputs": [],
   "source": [
    "for i in range(0, 10):\n",
    "    print(i)"
   ]
  },
  {
   "cell_type": "markdown",
   "metadata": {
    "slideshow": {
     "slide_type": "fragment"
    }
   },
   "source": [
    "Range objects can also have more complicated values:"
   ]
  },
  {
   "cell_type": "code",
   "execution_count": null,
   "metadata": {},
   "outputs": [],
   "source": [
    "# range from 5 to 10\n",
    "[x for x in range(5, 10)]"
   ]
  },
  {
   "cell_type": "code",
   "execution_count": null,
   "metadata": {},
   "outputs": [],
   "source": [
    "# range from 0 to 10 by 2\n",
    "[x for x in range(0, 10, 2)]"
   ]
  },
  {
   "cell_type": "code",
   "execution_count": null,
   "metadata": {},
   "outputs": [],
   "source": [
    "# count down instead of up\n",
    "[x for x in range(10,0,-1)]"
   ]
  },
  {
   "cell_type": "markdown",
   "metadata": {},
   "source": [
    "### Exercise 4\n",
    "Write a for loop or list comprehension that prints out every 4th number counting down from 40 to 24"
   ]
  },
  {
   "cell_type": "markdown",
   "metadata": {
    "slideshow": {
     "slide_type": "slide"
    }
   },
   "source": [
    "## `while` loops\n",
    "The other type of loop in Python is a `while` loop, which iterates until some condition is met. The argument of the `while` loop is evaluated as a boolean statement, and the loop is executed until the statement evaluates to False."
   ]
  },
  {
   "cell_type": "code",
   "execution_count": null,
   "metadata": {},
   "outputs": [],
   "source": [
    "i = 0\n",
    "while i < 10:\n",
    "    print(i, end=' ')\n",
    "    i += 1"
   ]
  },
  {
   "cell_type": "markdown",
   "metadata": {},
   "source": [
    "Here's another example that prints out fibonacci numbers up to a certain value."
   ]
  },
  {
   "cell_type": "code",
   "execution_count": null,
   "metadata": {},
   "outputs": [],
   "source": [
    "a, b = 0, 1\n",
    "amax = 100\n",
    "fibonacci_numbers = []\n",
    "\n",
    "while a < amax:\n",
    "    fibonacci_numbers.append(a)\n",
    "    a, b = b, a + b \n",
    "\n",
    "print(fibonacci_numbers)"
   ]
  },
  {
   "cell_type": "markdown",
   "metadata": {
    "slideshow": {
     "slide_type": "slide"
    }
   },
   "source": [
    "## `pass`, `continue`, `break` : Fine-tuning your For and  While loops\n",
    "\n",
    "- `pass` statement is a placeholder, it does nothing\n",
    "- `continue` statement skips the remainder of the current loop, and goes to the next iteration\n",
    "- `break` statement breaks-out of the loop entirely"
   ]
  },
  {
   "cell_type": "markdown",
   "metadata": {},
   "source": [
    "`pass` is helpful for when you know you need a loop or conditional statement but don't know what to put in it yet."
   ]
  },
  {
   "cell_type": "code",
   "execution_count": 15,
   "metadata": {},
   "outputs": [],
   "source": [
    "if 3 > 4:\n",
    "    pass"
   ]
  },
  {
   "cell_type": "markdown",
   "metadata": {
    "slideshow": {
     "slide_type": "fragment"
    }
   },
   "source": [
    "`continue` let's you carry on. Let's print a string of odd numbers."
   ]
  },
  {
   "cell_type": "code",
   "execution_count": null,
   "metadata": {},
   "outputs": [],
   "source": [
    "for n in range(20):\n",
    "    # check if n is even\n",
    "    if n % 2 == 0:\n",
    "        continue # don't do anything here, just move on\n",
    "    print(n,end=\" \")"
   ]
  },
  {
   "cell_type": "markdown",
   "metadata": {},
   "source": [
    "In this case, the result could be accomplished just as well with an ``if-else`` statement, but sometimes the ``continue`` statement can be a more convenient way to express the idea you have in mind:"
   ]
  },
  {
   "cell_type": "markdown",
   "metadata": {
    "slideshow": {
     "slide_type": "subslide"
    }
   },
   "source": [
    "We can use `break` to take us out of a `for` loop once we've done what we needed to do. In this example we search through lists for a value until we find the list that it's in."
   ]
  },
  {
   "cell_type": "code",
   "execution_count": null,
   "metadata": {},
   "outputs": [],
   "source": [
    "# this list contains other lists which is a perfectly valid data structure\n",
    "all_my_lists = [[0, 1, 3, 3], [4, 8, 9], [27, 100, -3, 3], [0, 0, 0, 0]]\n",
    "\n",
    "for l in all_my_lists:  # we want to find the list that has 27 in it\n",
    "    if 27 in l:\n",
    "        break\n",
    "    else:  # the else isn't necessary but I find it helps clarify purpose\n",
    "        continue\n",
    "        \n",
    "print(l)"
   ]
  },
  {
   "cell_type": "markdown",
   "metadata": {},
   "source": [
    "We can use `while True` and `break` to create a continuous loop until a condition is met.\n",
    "\n",
    "In this example we've got a dummy incoming data stream `incoming_data` (random numbers between 0 and 10) that's 'good' so long as the random number is $\\leq$ 8. If it's > 8 then it's 'bad' and we want to `break` out of the loop."
   ]
  },
  {
   "cell_type": "code",
   "execution_count": null,
   "metadata": {},
   "outputs": [],
   "source": [
    "import random\n",
    "\n",
    "while True:\n",
    "    incoming_data = random.randint(0,10)\n",
    "    print(incoming_data)\n",
    "    \n",
    "    if incoming_data > 8:\n",
    "        print(f\"Data went bad with a value of {incoming_data}\")\n",
    "        break"
   ]
  },
  {
   "cell_type": "markdown",
   "metadata": {},
   "source": [
    "When writing a `while` loop you need to make sure there will eventually be a scenario where your condition is no longer true. This `while True` loop would continue forever without the `break`. Wow!"
   ]
  },
  {
   "cell_type": "code",
   "execution_count": null,
   "metadata": {},
   "outputs": [],
   "source": [
    "Image('https://i.kym-cdn.com/photos/images/original/001/352/701/64d.png')"
   ]
  },
  {
   "cell_type": "markdown",
   "metadata": {
    "slideshow": {
     "slide_type": "slide"
    }
   },
   "source": [
    "### Exercise 5"
   ]
  },
  {
   "cell_type": "markdown",
   "metadata": {},
   "source": [
    "Write a program that can print the following pattern for a given triangle size N.\n",
    "\n",
    "\n",
    "For N = 5:  <code>\n",
    "``*``\n",
    "``* *``\n",
    "``* * *``\n",
    "``* * * *``\n",
    "``* * * * *``\n",
    "\n",
    "print('\\*',end=' ')   # to print '\\*' without changing line\n",
    "print('')             # change line\n",
    "</code>"
   ]
  },
  {
   "cell_type": "markdown",
   "metadata": {},
   "source": [
    "### Exercise 6\n",
    "Time to play a game. Fizzbuzz is a simple game for children and therefore suprisingly difficult to code. The rules are:   \n",
    "\n",
    "Everyone sits in a cirle, the player that goes first says 1 and each following player going round the circle says the next number up. If, however, the number is divisible by three the player say *fizz* and if it's divisible by five the player says *buzz*. If it's divisible by three **and** five then they say *fizzbuzz*.\n",
    "\n",
    "1. Write code to print out the right answers in Fizzbuzz up to 20\n",
    "\n",
    "#### Extension\n",
    "2. Make the loop break if someone says *fizzbuzz*\n",
    "\n",
    "#### Extension extension\n",
    "3. What is going on with this solution? http://philcrissman.net/posts/eulers-fizzbuzz/"
   ]
  },
  {
   "cell_type": "markdown",
   "metadata": {
    "slideshow": {
     "slide_type": "slide"
    }
   },
   "source": [
    "## Iterators"
   ]
  },
  {
   "cell_type": "markdown",
   "metadata": {},
   "source": [
    "#### ``range()``: A List Is Not Always a List\n",
    "The ``range()`` function in Python 3 (named ``xrange()`` in Python 2), returns not a list, but a special ``range()`` object:"
   ]
  },
  {
   "cell_type": "code",
   "execution_count": null,
   "metadata": {},
   "outputs": [],
   "source": [
    "import sys\n",
    "if sys.version_info < (3,0):\n",
    "    range = xrange"
   ]
  },
  {
   "cell_type": "markdown",
   "metadata": {
    "slideshow": {
     "slide_type": "skip"
    }
   },
   "source": [
    "``range``, like a list, exposes an iterator:"
   ]
  },
  {
   "cell_type": "code",
   "execution_count": null,
   "metadata": {
    "slideshow": {
     "slide_type": "notes"
    }
   },
   "outputs": [],
   "source": [
    "iter(range(10))"
   ]
  },
  {
   "cell_type": "markdown",
   "metadata": {
    "slideshow": {
     "slide_type": "skip"
    }
   },
   "source": [
    "So Python knows to treat it *as if* it's a list:"
   ]
  },
  {
   "cell_type": "code",
   "execution_count": null,
   "metadata": {
    "slideshow": {
     "slide_type": "skip"
    }
   },
   "outputs": [],
   "source": [
    "for i in range(2):\n",
    "    print(i)"
   ]
  },
  {
   "cell_type": "markdown",
   "metadata": {
    "slideshow": {
     "slide_type": "fragment"
    }
   },
   "source": [
    "In this indirect iterator *the full list is never explicitly created!*\n",
    "\n",
    "Let's try something silly:"
   ]
  },
  {
   "cell_type": "code",
   "execution_count": null,
   "metadata": {},
   "outputs": [],
   "source": [
    "N = 10 ** 9             \n",
    "for i in range(N):            # this would take > 4 GBytes to store in memory\n",
    "    if i >= 10: break\n",
    "    print(i)                   # print(i, end=', ') in python 3\n",
    "\n",
    "sys.getsizeof(range(N))"
   ]
  },
  {
   "cell_type": "markdown",
   "metadata": {},
   "source": [
    "If range were to actually create that list of one trillion values, it would occupy tens of terabytes of machine memory: a waste, given the fact that we're ignoring all but the first 10 values!"
   ]
  },
  {
   "cell_type": "markdown",
   "metadata": {},
   "source": [
    "In fact, there's no reason that iterators ever have to end at all! Python's itertools library contains a count function that acts as an infinite range:"
   ]
  },
  {
   "cell_type": "code",
   "execution_count": null,
   "metadata": {
    "slideshow": {
     "slide_type": "skip"
    }
   },
   "outputs": [],
   "source": [
    "from itertools import count\n",
    "\n",
    "for i in count():\n",
    "    if i >= 10:\n",
    "        break\n",
    "    print(i, end=', ')"
   ]
  },
  {
   "cell_type": "markdown",
   "metadata": {
    "slideshow": {
     "slide_type": "skip"
    }
   },
   "source": [
    "Had we not thrown-in a loop break here, it would go on happily counting until the process is manually interrupted or killed (using, for example, ``ctrl-C``)."
   ]
  },
  {
   "cell_type": "markdown",
   "metadata": {
    "slideshow": {
     "slide_type": "slide"
    }
   },
   "source": [
    "### Useful Iterators"
   ]
  },
  {
   "cell_type": "markdown",
   "metadata": {},
   "source": [
    "#### ``enumerate``\n",
    "Often you need to iterate not only the values in an array, but also keep track of the index.\n",
    "You might be tempted to do things this way:"
   ]
  },
  {
   "cell_type": "code",
   "execution_count": null,
   "metadata": {},
   "outputs": [],
   "source": [
    "L = [2, 4, 6, 8, 10]\n",
    "for i in range(len(L)):\n",
    "    print(i, L[i])"
   ]
  },
  {
   "cell_type": "markdown",
   "metadata": {},
   "source": [
    "Although this does work, Python provides a cleaner syntax using the ``enumerate`` iterator:"
   ]
  },
  {
   "cell_type": "code",
   "execution_count": null,
   "metadata": {},
   "outputs": [],
   "source": [
    "for i, val in enumerate(L):\n",
    "    print(i, val)"
   ]
  },
  {
   "cell_type": "markdown",
   "metadata": {},
   "source": [
    "enumerate accepts an additional optional argument:"
   ]
  },
  {
   "cell_type": "code",
   "execution_count": null,
   "metadata": {},
   "outputs": [],
   "source": [
    "for i, val in enumerate(L, 1): # we start the counter at 1, not 0!\n",
    "    print(i, val)"
   ]
  },
  {
   "cell_type": "markdown",
   "metadata": {
    "slideshow": {
     "slide_type": "subslide"
    }
   },
   "source": [
    "#### ``zip([iterable, ...])``\n",
    "    Iterate through several iterables at the same time."
   ]
  },
  {
   "cell_type": "code",
   "execution_count": null,
   "metadata": {},
   "outputs": [],
   "source": [
    "L = [3, 3, 6, 8, 15]\n",
    "M = [2, 6, 8, 10, 12]\n",
    "R = [1, 4, 5, 9, 10]\n",
    "for lval, mval, rval in zip(L, M, R):\n",
    "    print(max(lval, mval, rval))\n",
    "    \n",
    "#Alternative to\n",
    "for i in range(len(L)):\n",
    "    max(L[i], M[i], R[i])"
   ]
  },
  {
   "cell_type": "markdown",
   "metadata": {},
   "source": [
    "Any number of iterables can be zipped together, and if they are different lengths, the shortest will determine the length of the ``zip``."
   ]
  },
  {
   "cell_type": "markdown",
   "metadata": {
    "slideshow": {
     "slide_type": "subslide"
    }
   },
   "source": [
    "#### ``map(function, iterable, ...)``\n",
    " \n",
    "    Apply function to every item of iterable and return a list of the results."
   ]
  },
  {
   "cell_type": "code",
   "execution_count": null,
   "metadata": {
    "slideshow": {
     "slide_type": "-"
    }
   },
   "outputs": [],
   "source": [
    "list(map(max, L, M, R))"
   ]
  },
  {
   "cell_type": "markdown",
   "metadata": {
    "slideshow": {
     "slide_type": "skip"
    }
   },
   "source": [
    "#### `itertools`"
   ]
  },
  {
   "cell_type": "markdown",
   "metadata": {
    "slideshow": {
     "slide_type": "skip"
    }
   },
   "source": [
    "More specialised iterators are available in a built-in `itertools` module. Example:"
   ]
  },
  {
   "cell_type": "code",
   "execution_count": null,
   "metadata": {
    "slideshow": {
     "slide_type": "skip"
    }
   },
   "outputs": [],
   "source": [
    "from itertools import permutations\n",
    "p = permutations(range(3))\n",
    "print(*p)"
   ]
  },
  {
   "cell_type": "markdown",
   "metadata": {
    "slideshow": {
     "slide_type": "slide"
    }
   },
   "source": [
    "## Errors and exceptions"
   ]
  },
  {
   "cell_type": "markdown",
   "metadata": {
    "slideshow": {
     "slide_type": "-"
    }
   },
   "source": [
    "These things happen...\n",
    "Mistakes come in three basic flavors:\n",
    "\n",
    "- *Syntax errors:* Errors where the code is not valid Python (generally easy to fix)\n",
    "- *Runtime errors:* Errors where syntactically valid code fails to execute, perhaps due to invalid user input (sometimes easy to fix)\n",
    "- *Semantic errors:* Errors in logic: code executes without a problem, but the result is not what you expect (often very difficult to track-down and fix)\n"
   ]
  },
  {
   "cell_type": "markdown",
   "metadata": {
    "slideshow": {
     "slide_type": "fragment"
    }
   },
   "source": [
    "Here we're going to focus on how to deal cleanly with *runtime errors*."
   ]
  },
  {
   "cell_type": "markdown",
   "metadata": {
    "slideshow": {
     "slide_type": "slide"
    }
   },
   "source": [
    "### Catch what you can handle vs. let it fail\n",
    "\n",
    "Errors that go unoticed can be difficult to detect, so often the best option is to let the exception stop the program."
   ]
  },
  {
   "cell_type": "markdown",
   "metadata": {
    "slideshow": {
     "slide_type": "fragment"
    }
   },
   "source": [
    "#### try and except\n",
    "Sometimes specific errors can be handled and an alternate course of action taken."
   ]
  },
  {
   "cell_type": "code",
   "execution_count": null,
   "metadata": {},
   "outputs": [],
   "source": [
    "import sys\n",
    "### Handling exceptions\n",
    "try:\n",
    "    open('myfile')\n",
    "except IOError:\n",
    "    err = sys.exc_info()[1]\n",
    "    print(err)\n",
    "    print('Cannot read file so will use  default values')\n",
    "    # Do alternate action\n",
    "    \n",
    "else:\n",
    "    print('Values were read from myfile')"
   ]
  },
  {
   "cell_type": "markdown",
   "metadata": {
    "slideshow": {
     "slide_type": "skip"
    }
   },
   "source": [
    "## References\n",
    "*A Whirlwind Tour of Python* by Jake VanderPlas (O’Reilly). Copyright 2016 O’Reilly Media, Inc., 978-1-491-96465-1"
   ]
  },
  {
   "cell_type": "markdown",
   "metadata": {
    "slideshow": {
     "slide_type": "slide"
    }
   },
   "source": [
    "## Solutions to Exercises"
   ]
  },
  {
   "cell_type": "markdown",
   "metadata": {},
   "source": [
    "#### Exercise 1"
   ]
  },
  {
   "cell_type": "code",
   "execution_count": null,
   "metadata": {
    "slideshow": {
     "slide_type": "subslide"
    }
   },
   "outputs": [],
   "source": [
    "x = -15\n",
    "\n",
    "# If x is equal to zero print x, \"is zero\"\n",
    "if x == 0:\n",
    "    print(x, \"is zero\")\n",
    "    \n",
    "# Other wise if x is greater than zero print x, \"is positive\"\n",
    "elif x > 0:\n",
    "    print(x, \"is positive\")\n",
    "    \n",
    "# If all else fails print x, \"is negative\"\n",
    "else:\n",
    "    print(x, \"is negative\")"
   ]
  },
  {
   "cell_type": "markdown",
   "metadata": {},
   "source": [
    "#### Exercise 2"
   ]
  },
  {
   "cell_type": "code",
   "execution_count": null,
   "metadata": {},
   "outputs": [],
   "source": [
    "name = \"harry\"\n",
    "\n",
    "if type(name) == str:\n",
    "    print(\"That's a string!\")\n",
    "    \n",
    "if type(name) != str:\n",
    "    print(\"That's not a string!\")\n",
    "elif type(name) == str and name != \"harry\":\n",
    "    print(\"That's a string but it's not my name!\")\n",
    "elif type(name) == str and name == \"harry\":\n",
    "    print(\"It's a string and it is my name!\")\n",
    "else:\n",
    "    print(\"I don't know what you entered\")"
   ]
  },
  {
   "cell_type": "markdown",
   "metadata": {},
   "source": [
    "##### Extension"
   ]
  },
  {
   "cell_type": "code",
   "execution_count": null,
   "metadata": {},
   "outputs": [],
   "source": [
    "my_id = 47\n",
    "\n",
    "if type(my_id) == int or type(my_id) == str:\n",
    "    print(\"That's a valid id\")"
   ]
  },
  {
   "cell_type": "markdown",
   "metadata": {},
   "source": [
    "##### Extension extension"
   ]
  },
  {
   "cell_type": "code",
   "execution_count": null,
   "metadata": {},
   "outputs": [],
   "source": [
    "age = input(\"What's your age?\")\n",
    "\n",
    "if int(age) > 0:\n",
    "    print(f\"Your age is {age}\")\n",
    "else:\n",
    "    print(\"Sorry I didn't understand your input\")"
   ]
  },
  {
   "cell_type": "markdown",
   "metadata": {},
   "source": [
    "#### Exercise 3"
   ]
  },
  {
   "cell_type": "code",
   "execution_count": null,
   "metadata": {},
   "outputs": [],
   "source": [
    "total = 0\n",
    "for x in [0, 1, 1, 2, 3, 5, 7]:\n",
    "    total += x\n",
    "    print(f\"subtotal is {total}\")\n",
    "print(f\"Grand total is {total}\")"
   ]
  },
  {
   "cell_type": "markdown",
   "metadata": {},
   "source": [
    "#### Exercise 4"
   ]
  },
  {
   "cell_type": "code",
   "execution_count": null,
   "metadata": {},
   "outputs": [],
   "source": [
    "for x in range(40,23,-4):\n",
    "    print(x)"
   ]
  },
  {
   "cell_type": "markdown",
   "metadata": {},
   "source": [
    "#### Exercise 5"
   ]
  },
  {
   "cell_type": "code",
   "execution_count": null,
   "metadata": {},
   "outputs": [],
   "source": [
    "N = 5\n",
    "\n",
    "for i in range(N):\n",
    "    for j in range(i+1):\n",
    "        print ('*', end=' ')\n",
    "    print('')\n",
    "print('')"
   ]
  },
  {
   "cell_type": "code",
   "execution_count": null,
   "metadata": {
    "slideshow": {
     "slide_type": "slide"
    }
   },
   "outputs": [],
   "source": [
    "#Solution using break\n",
    "for i in range(N):\n",
    "    for j in range(N):\n",
    "        if (j > i):\n",
    "            break\n",
    "        print('*', end=' ')\n",
    "    print('')"
   ]
  },
  {
   "cell_type": "markdown",
   "metadata": {},
   "source": [
    "#### Exercise 6"
   ]
  },
  {
   "cell_type": "code",
   "execution_count": null,
   "metadata": {},
   "outputs": [],
   "source": [
    "for x in range(1, 21):\n",
    "    if x % 3 == 0 and x % 5 == 0:\n",
    "        print(\"fizzbuzz\")  # add a break here for the extension\n",
    "    elif x % 3 == 0:\n",
    "        print(\"fizz\")\n",
    "    elif x % 5 == 0:\n",
    "        print(\"buzz\")\n",
    "    else:\n",
    "        print(x)"
   ]
  }
 ],
 "metadata": {
  "anaconda-cloud": {},
  "kernelspec": {
   "display_name": "Python [conda env:course2022]",
   "language": "python",
   "name": "conda-env-course2022-py"
  },
  "language_info": {
   "codemirror_mode": {
    "name": "ipython",
    "version": 3
   },
   "file_extension": ".py",
   "mimetype": "text/x-python",
   "name": "python",
   "nbconvert_exporter": "python",
   "pygments_lexer": "ipython3",
   "version": "3.8.13"
  }
 },
 "nbformat": 4,
 "nbformat_minor": 1
}
