{
 "cells": [
  {
   "cell_type": "markdown",
   "metadata": {
    "slideshow": {
     "slide_type": "slide"
    }
   },
   "source": [
    "# Control Flow\n",
    "Lecture 1: Everything up to iterators  \n",
    "Lecture 2: iterators onwards"
   ]
  },
  {
   "cell_type": "markdown",
   "metadata": {
    "slideshow": {
     "slide_type": "subslide"
    }
   },
   "source": [
    "*Control flow* means controlling how python works its way through a program.\n",
    "Without control flow, a program is a list of statements that are sequentially executed.\n",
    "With control flow, you can execute code blocks conditionally and/or repeatedly. The basic building blocks are:  \n",
    "- conditional statements (including \"`if`\", \"`elif`\", and \"`else`\")\n",
    "- loop statements (including \"`for`\" and \"`while`\" and the accompanying \"`break`\", \"`continue`\", and \"`pass`\")."
   ]
  },
  {
   "cell_type": "markdown",
   "metadata": {
    "slideshow": {
     "slide_type": "slide"
    }
   },
   "source": [
    "## Conditional Statements: `if-elif-else`:"
   ]
  },
  {
   "cell_type": "markdown",
   "metadata": {},
   "source": [
    "Conditional statements, often referred to as *if-then* statements, allow the programmer to execute certain pieces of code depending on some condition. The basic syntax is a conditional keyword (like ``if``) then a conditional statement and a colon, followed by an indented code block to execute if the condition is true."
   ]
  },
  {
   "cell_type": "code",
   "execution_count": 1,
   "metadata": {},
   "outputs": [
    {
     "name": "stdout",
     "output_type": "stream",
     "text": [
      "Condition satisfied\n"
     ]
    }
   ],
   "source": [
    "foo = 'bar'\n",
    "\n",
    "# The 'if' statment will set a criteria, and 'if' the condition is met, it will print 'Condition satisfied'\n",
    "if foo == 'bar':\n",
    "    print('Condition satisfied')\n",
    "    \n",
    "# If the 'if' condition isn't met, the code in the indented block *won't* be executed\n",
    "if foo == 'baz':\n",
    "    print(\"It's baz instead\")"
   ]
  },
  {
   "cell_type": "markdown",
   "metadata": {},
   "source": [
    "Python conditional statements involve an ``if``, zero or more ``elif`` parts, and an optional final ``else``. Different conditions can be added using ``elif`` (else if), and a final catch-all condition can be added using ``else``. You can have as many ``elif`` statements after the initial ``if`` as you want, but you only ever use one ``else``.\n",
    "\n",
    "Note the use of colons (``:``) and whitespace to indent the conditional blocks of code."
   ]
  },
  {
   "cell_type": "code",
   "execution_count": null,
   "metadata": {
    "slideshow": {
     "slide_type": "subslide"
    }
   },
   "outputs": [],
   "source": [
    "x = -15\n",
    "\n",
    "# If x is equal to zero print x, \"is zero\"\n",
    "if x == 0:\n",
    "    print(x, \"is zero\")\n",
    "    \n",
    "# Other wise if x is greater than zero print x, \"is positive\"\n",
    "elif x > 0:\n",
    "    print(x, \"is positive\")\n",
    "    \n",
    "# If all else fails print x, \"is negative\"\n",
    "else:\n",
    "    print(x, \"is negative\")"
   ]
  },
  {
   "cell_type": "markdown",
   "metadata": {},
   "source": [
    "### Exercise\n",
    "1. Duplicate the `if/elif/else` code cell and paste it below this cell:\n",
    "    - select the cell above in command mode [blue outline]\n",
    "        - either click roughly where the `In []` is (immediately enter command mode) or click in the code text (enter edit mode) and press escape\n",
    "    - press c to copy\n",
    "    - press down to select this cell\n",
    "    - press v to paste below the current (this) cell\n",
    "    \n",
    "    \n",
    "2. In your newly copied cell add an extra elif clause that prints \"x is very negative\" if x is less than 10.  \n",
    "\n",
    "3. Change the else clause to print \"x is a little bit negative\"."
   ]
  },
  {
   "cell_type": "markdown",
   "metadata": {},
   "source": [
    "What if you have two conditions that are True? "
   ]
  },
  {
   "cell_type": "code",
   "execution_count": 10,
   "metadata": {},
   "outputs": [
    {
     "name": "stdout",
     "output_type": "stream",
     "text": [
      "-15 is divisible by three.\n"
     ]
    }
   ],
   "source": [
    "x = -15\n",
    "\n",
    "if x % 3 == 0:\n",
    "    print(x, \"is divisible by three.\")\n",
    "elif x < 0:\n",
    "    print(x, \"is negative.\")\n",
    "else:\n",
    "    print(x, \"is something else.\")"
   ]
  },
  {
   "cell_type": "markdown",
   "metadata": {},
   "source": [
    "We see that while both the 'if' and 'elif' condition were true, it ignored the second condition because the first condition had already been satisfied. `if/elif/else` statements are worked through in strict order.\n",
    "\n",
    "If you want it to recognise both conditions there are two ways depending on what exactly you want to achieve:  \n",
    "1. Use two if-statements, no elif:"
   ]
  },
  {
   "cell_type": "code",
   "execution_count": 8,
   "metadata": {},
   "outputs": [
    {
     "name": "stdout",
     "output_type": "stream",
     "text": [
      "-15 is divisible by three.\n",
      "-15 is negative.\n"
     ]
    }
   ],
   "source": [
    "x = -15\n",
    "\n",
    "if x % 3 == 0:\n",
    "    print(x, \"is divisible by three.\")\n",
    "if x < 0:\n",
    "    print(x, \"is negative.\") "
   ]
  },
  {
   "cell_type": "markdown",
   "metadata": {},
   "source": [
    "2. Use one if-statement with ``and``:"
   ]
  },
  {
   "cell_type": "code",
   "execution_count": 12,
   "metadata": {},
   "outputs": [
    {
     "name": "stdout",
     "output_type": "stream",
     "text": [
      "-15 is both negative and divisible by 3.\n"
     ]
    }
   ],
   "source": [
    "x = -15\n",
    "\n",
    "if x % 3 == 0 and x < 0:\n",
    "    print(x, \"is both negative and divisible by 3.\")"
   ]
  },
  {
   "cell_type": "markdown",
   "metadata": {},
   "source": [
    "If you wanted to have an action done if only one of the two conditions are true, and both are **equally important**, then you can use ``or``."
   ]
  },
  {
   "cell_type": "code",
   "execution_count": 13,
   "metadata": {},
   "outputs": [
    {
     "name": "stdout",
     "output_type": "stream",
     "text": [
      "-15 is either negative or divisible by 3.\n"
     ]
    }
   ],
   "source": [
    "x = -15\n",
    "\n",
    "if x % 3 == 0 or x < 0:\n",
    "    print(x, \"is either negative or divisible by 3.\")"
   ]
  },
  {
   "cell_type": "markdown",
   "metadata": {},
   "source": [
    "###  Exercise\n",
    "Create an empty code cell below this one.\n",
    "1. Define a variable `name` which is a string of your name.\n",
    "2. Write a conditional statement that checks whether `name` is a string and if so prints \"That's a string!\". Check this works.\n",
    "    - How do you check the type of a variable?\n",
    "    \n",
    "    \n",
    "3. Below your first conditional statement write another one that checks for the following conditions in order:\n",
    "\n",
    "    - `name` is not a string: print \"That's not a string!\"\n",
    "    - `name` is a string but not your name: print \"It's a string but it's not my name!\"\n",
    "    - `name` is a string and your name: print \"That's a string and it is my name!\"\n",
    "    - None of the above are true: print \"I have no idea what you entered\"\n",
    "    \n",
    "    \n",
    "4. Try changing `name` to each of the different cases and making sure it works for all of them.\n",
    "\n",
    "#### Extension\n",
    "Create another blank code cell below the one you've just finished.  \n",
    "\n",
    "5. Create a variable called `my_id` and define it as either an integer or a string  \n",
    "6. Write a conditional statement that checks if `my_id` is an integer or a string and if so prints \"That's a valid id\"\n",
    "\n",
    "#### Extension extension\n",
    "Create another blank code cell below the one you've just finished.\n",
    "\n",
    "7. Create a variable called age that asks for user input for the question \"What's your age?\"\n",
    "    - What's the function to ask for user input?\n",
    "8. Write a conditional statement that checks the following conditions:  \n",
    "    - if you can convert age to an integer and if it's greater than 0: if so print \"Your age is {age}\".  \n",
    "    - otherwise print \"Sorry I didn't understand your input\""
   ]
  },
  {
   "cell_type": "code",
   "execution_count": 19,
   "metadata": {},
   "outputs": [
    {
     "name": "stdout",
     "output_type": "stream",
     "text": [
      "What's your name? 6\n",
      "That's a string!\n",
      "That's a string but it's not my name!\n"
     ]
    }
   ],
   "source": [
    "name = \"harry\"\n",
    "\n",
    "if type(name) == str:\n",
    "    print(\"That's a string!\")\n",
    "    \n",
    "if type(name) != str:\n",
    "    print(\"That's not a string!\")\n",
    "elif type(name) == str and name != \"harry\":\n",
    "    print(\"That's a string but it's not my name!\")\n",
    "elif type(name) == str and name == \"harry\":\n",
    "    print(\"It's a string and it is my name!\")\n",
    "else:\n",
    "    print(\"I don't know what you entered\")"
   ]
  },
  {
   "cell_type": "code",
   "execution_count": 16,
   "metadata": {},
   "outputs": [
    {
     "name": "stdout",
     "output_type": "stream",
     "text": [
      "That's a valid id\n"
     ]
    }
   ],
   "source": [
    "my_id = 47\n",
    "\n",
    "if type(my_id) == int or type(my_id) == str:\n",
    "    print(\"That's a valid id\")"
   ]
  },
  {
   "cell_type": "code",
   "execution_count": 22,
   "metadata": {},
   "outputs": [
    {
     "name": "stdout",
     "output_type": "stream",
     "text": [
      "What's your age?6\n",
      "Your age is 6\n"
     ]
    }
   ],
   "source": [
    "age = input(\"What's your age?\")\n",
    "\n",
    "if int(age) > 0:\n",
    "    print(f\"Your age is {age}\")\n",
    "else:\n",
    "    print(\"Sorry I didn't understand your input\")"
   ]
  },
  {
   "cell_type": "markdown",
   "metadata": {
    "slideshow": {
     "slide_type": "slide"
    }
   },
   "source": [
    "## `for` loops\n",
    "Loops in Python are a way to repeatedly execute some code statement. They are an extremely helpful tool which avoid us having to write out each line, but can also be computationally demanding! (see the numpy/array lectures tomorrow for ways around this)."
   ]
  },
  {
   "cell_type": "markdown",
   "metadata": {
    "slideshow": {
     "slide_type": "fragment"
    }
   },
   "source": [
    "We can use a ``for`` loop to print each item in a list:"
   ]
  },
  {
   "cell_type": "code",
   "execution_count": 20,
   "metadata": {
    "scrolled": true
   },
   "outputs": [
    {
     "name": "stdout",
     "output_type": "stream",
     "text": [
      "2\n",
      "3\n",
      "5\n",
      "7\n"
     ]
    }
   ],
   "source": [
    "for N in [2, 3, 5, 7]: \n",
    "    print(N) "
   ]
  },
  {
   "cell_type": "markdown",
   "metadata": {
    "slideshow": {
     "slide_type": "skip"
    }
   },
   "source": [
    "What we are doing here is assigning 'N' to each number in the list [2,3,5,7] in order, then printing the output.  \n",
    "Each number you printed has been placed on a new line. This shows the loop has restarted on the next value in the list. \n",
    "\n",
    "#### Now let's do the same but this time put all the numbers on the same line for visual appearance. \n",
    "By default print adds a '\\n' newline character to the end of every string it prints. We can replace this with a ' &nbsp;' to print everything on the same line."
   ]
  },
  {
   "cell_type": "code",
   "execution_count": 17,
   "metadata": {
    "slideshow": {
     "slide_type": "skip"
    }
   },
   "outputs": [
    {
     "name": "stdout",
     "output_type": "stream",
     "text": [
      "2 3 5 7 "
     ]
    }
   ],
   "source": [
    "for N in [2, 3, 5, 7]: # you can replace 'N' with anything you like, but make sure to replace it below too!\n",
    "    print(N, end=' ') # print all on same line"
   ]
  },
  {
   "cell_type": "markdown",
   "metadata": {},
   "source": [
    "### Exercise\n",
    "Create a new code cell below this one.\n",
    "1. Create a variable called `total` that's equal to 0.\n",
    "2. Write a for loop that adds each number in the list [0, 1, 1, 2, 3, 5, 7] to `total` and prints \"subtotal is {total}\" at each step.\n",
    "3. After the for loop print \"Grand total is {total}\"."
   ]
  },
  {
   "cell_type": "markdown",
   "metadata": {
    "slideshow": {
     "slide_type": "slide"
    }
   },
   "source": [
    "####  ``range(start, stop[, step])`` \n",
    "One of the most commonly-used iterators in Python is the ``range`` object, which generates a sequence of numbers:"
   ]
  },
  {
   "cell_type": "code",
   "execution_count": null,
   "metadata": {},
   "outputs": [],
   "source": [
    "for i in range(10):   # Here we have replaced 'N' with 'i' \n",
    "    print(i)          #print(i, end=' ')"
   ]
  },
  {
   "cell_type": "markdown",
   "metadata": {
    "slideshow": {
     "slide_type": "fragment"
    }
   },
   "source": [
    "Range objects can also have more complicated values:"
   ]
  },
  {
   "cell_type": "code",
   "execution_count": null,
   "metadata": {},
   "outputs": [],
   "source": [
    "# range from 5 to 10\n",
    "list(range(5, 10))"
   ]
  },
  {
   "cell_type": "code",
   "execution_count": null,
   "metadata": {},
   "outputs": [],
   "source": [
    "# range from 0 to 10 by 2\n",
    "list(range(0, 10, 2))"
   ]
  },
  {
   "cell_type": "markdown",
   "metadata": {
    "slideshow": {
     "slide_type": "slide"
    }
   },
   "source": [
    "## ``while`` loops\n",
    "The other type of loop in Python is a ``while`` loop, which iterates until some condition is met.\n",
    "\n",
    "It can also be used as a continous loop until you 'break' it! \n"
   ]
  },
  {
   "cell_type": "code",
   "execution_count": null,
   "metadata": {},
   "outputs": [],
   "source": [
    "i = 0\n",
    "while i < 10:\n",
    "    print(i, end=' ')\n",
    "    i += 1"
   ]
  },
  {
   "cell_type": "markdown",
   "metadata": {},
   "source": [
    "The argument of the ``while`` loop is evaluated as a boolean statement, and the loop is executed until the statement evaluates to False."
   ]
  },
  {
   "cell_type": "markdown",
   "metadata": {
    "slideshow": {
     "slide_type": "slide"
    }
   },
   "source": [
    "## ``break`` and ``continue``: Fine-tuning your For and  While loops\n",
    "\n",
    "- ``break`` statement breaks-out of the loop entirely\n",
    "- ``continue`` statement skips the remainder of the current loop, and goes to the next iteration"
   ]
  },
  {
   "cell_type": "markdown",
   "metadata": {
    "slideshow": {
     "slide_type": "fragment"
    }
   },
   "source": [
    "Let's print a string of odd numbers."
   ]
  },
  {
   "cell_type": "code",
   "execution_count": null,
   "metadata": {},
   "outputs": [],
   "source": [
    "for n in range(20):\n",
    "    # check if n is even\n",
    "    if n % 2 == 0:\n",
    "        continue # don't do anything here, just move on\n",
    "    print(n,end=\" \")"
   ]
  },
  {
   "cell_type": "markdown",
   "metadata": {},
   "source": [
    "In this case, the result could be accomplished just as well with an ``if-else`` statement, but sometimes the ``continue`` statement can be a more convenient way to express the idea you have in mind:"
   ]
  },
  {
   "cell_type": "markdown",
   "metadata": {
    "slideshow": {
     "slide_type": "subslide"
    }
   },
   "source": [
    "Here is an example of a ``break`` statement used for a less trivial task.\n",
    "This loop will fill a list with all Fibonacci numbers up to a certain value:"
   ]
  },
  {
   "cell_type": "code",
   "execution_count": null,
   "metadata": {},
   "outputs": [],
   "source": [
    "a, b = 0, 1\n",
    "amax = 100\n",
    "L = []\n",
    "\n",
    "while True:\n",
    "    (a, b) = (b, a + b) \n",
    "    if a > amax:\n",
    "        break\n",
    "    L.append(a)\n",
    "\n",
    "print(L)"
   ]
  },
  {
   "cell_type": "markdown",
   "metadata": {},
   "source": [
    "Notice that we use a ``while True`` loop, which will loop forever unless we have a break statement! Above we set a value of 100 to break if the value 'L' becomes greater than 100."
   ]
  },
  {
   "cell_type": "markdown",
   "metadata": {
    "slideshow": {
     "slide_type": "slide"
    }
   },
   "source": [
    "## Exercise 1"
   ]
  },
  {
   "cell_type": "markdown",
   "metadata": {},
   "source": [
    "Write a program that can print the following pattern for a given triangle size N.\n",
    "\n",
    "\n",
    "For N=5:\n",
    "<code>\n",
    "``*`` \n",
    "``* *`` \n",
    "``* * *`` \n",
    "``* * * *`` \n",
    "``* * * * *``\n",
    "\n",
    "print('\\*',end=' ')   # to print '\\*' without changing line\n",
    "print('')            # change line\n",
    "</code>"
   ]
  },
  {
   "cell_type": "code",
   "execution_count": null,
   "metadata": {},
   "outputs": [],
   "source": [
    "# your code"
   ]
  },
  {
   "cell_type": "markdown",
   "metadata": {
    "slideshow": {
     "slide_type": "slide"
    }
   },
   "source": [
    "## Iterators"
   ]
  },
  {
   "cell_type": "markdown",
   "metadata": {},
   "source": [
    "#### ``range()``: A List Is Not Always a List\n",
    "The ``range()`` function in Python 3 (named ``xrange()`` in Python 2), returns not a list, but a special ``range()`` object:"
   ]
  },
  {
   "cell_type": "code",
   "execution_count": null,
   "metadata": {},
   "outputs": [],
   "source": [
    "import sys\n",
    "if sys.version_info < (3,0):\n",
    "    range = xrange"
   ]
  },
  {
   "cell_type": "markdown",
   "metadata": {
    "slideshow": {
     "slide_type": "skip"
    }
   },
   "source": [
    "``range``, like a list, exposes an iterator:"
   ]
  },
  {
   "cell_type": "code",
   "execution_count": null,
   "metadata": {
    "slideshow": {
     "slide_type": "notes"
    }
   },
   "outputs": [],
   "source": [
    "iter(range(10))"
   ]
  },
  {
   "cell_type": "markdown",
   "metadata": {
    "slideshow": {
     "slide_type": "skip"
    }
   },
   "source": [
    "So Python knows to treat it *as if* it's a list:"
   ]
  },
  {
   "cell_type": "code",
   "execution_count": null,
   "metadata": {
    "slideshow": {
     "slide_type": "skip"
    }
   },
   "outputs": [],
   "source": [
    "for i in range(2):\n",
    "    print(i)"
   ]
  },
  {
   "cell_type": "markdown",
   "metadata": {
    "slideshow": {
     "slide_type": "fragment"
    }
   },
   "source": [
    "In this indirect iterator *the full list is never explicitly created!*\n",
    "\n",
    "Let's try something silly:"
   ]
  },
  {
   "cell_type": "code",
   "execution_count": null,
   "metadata": {},
   "outputs": [],
   "source": [
    "N = 10 ** 9             \n",
    "for i in range(N):            # this would take > 4 GBytes to store in memory\n",
    "    if i >= 10: break\n",
    "    print(i)                   # print(i, end=', ') in python 3\n",
    "\n",
    "sys.getsizeof(range(N))"
   ]
  },
  {
   "cell_type": "markdown",
   "metadata": {},
   "source": [
    "If range were to actually create that list of one trillion values, it would occupy tens of terabytes of machine memory: a waste, given the fact that we're ignoring all but the first 10 values!"
   ]
  },
  {
   "cell_type": "markdown",
   "metadata": {},
   "source": [
    "In fact, there's no reason that iterators ever have to end at all! Python's itertools library contains a count function that acts as an infinite range:"
   ]
  },
  {
   "cell_type": "code",
   "execution_count": null,
   "metadata": {
    "slideshow": {
     "slide_type": "skip"
    }
   },
   "outputs": [],
   "source": [
    "from itertools import count\n",
    "\n",
    "for i in count():\n",
    "    if i >= 10:\n",
    "        break\n",
    "    print(i, end=', ')"
   ]
  },
  {
   "cell_type": "markdown",
   "metadata": {
    "slideshow": {
     "slide_type": "skip"
    }
   },
   "source": [
    "Had we not thrown-in a loop break here, it would go on happily counting until the process is manually interrupted or killed (using, for example, ``ctrl-C``)."
   ]
  },
  {
   "cell_type": "markdown",
   "metadata": {
    "slideshow": {
     "slide_type": "slide"
    }
   },
   "source": [
    "### Useful Iterators"
   ]
  },
  {
   "cell_type": "markdown",
   "metadata": {},
   "source": [
    "#### ``enumerate``\n",
    "Often you need to iterate not only the values in an array, but also keep track of the index.\n",
    "You might be tempted to do things this way:"
   ]
  },
  {
   "cell_type": "code",
   "execution_count": null,
   "metadata": {},
   "outputs": [],
   "source": [
    "L = [2, 4, 6, 8, 10]\n",
    "for i in range(len(L)):\n",
    "    print(i, L[i])"
   ]
  },
  {
   "cell_type": "markdown",
   "metadata": {},
   "source": [
    "Although this does work, Python provides a cleaner syntax using the ``enumerate`` iterator:"
   ]
  },
  {
   "cell_type": "code",
   "execution_count": null,
   "metadata": {},
   "outputs": [],
   "source": [
    "for i, val in enumerate(L):\n",
    "    print(i, val)"
   ]
  },
  {
   "cell_type": "markdown",
   "metadata": {},
   "source": [
    "enumerate accepts an additional optional argument:"
   ]
  },
  {
   "cell_type": "code",
   "execution_count": null,
   "metadata": {},
   "outputs": [],
   "source": [
    "for i, val in enumerate(L, 1): # we start the counter at 1, not 0!\n",
    "    print(i, val)"
   ]
  },
  {
   "cell_type": "markdown",
   "metadata": {
    "slideshow": {
     "slide_type": "subslide"
    }
   },
   "source": [
    "#### ``zip([iterable, ...])``\n",
    "    Iterate through several iterables at the same time."
   ]
  },
  {
   "cell_type": "code",
   "execution_count": null,
   "metadata": {},
   "outputs": [],
   "source": [
    "L = [3, 3, 6, 8, 15]\n",
    "M = [2, 6, 8, 10, 12]\n",
    "R = [1, 4, 5, 9, 10]\n",
    "for lval, mval, rval in zip(L, M, R):\n",
    "    print(max(lval, mval, rval))\n",
    "    \n",
    "#Alternative to\n",
    "for i in range(len(L)):\n",
    "    max(L[i], M[i], R[i])"
   ]
  },
  {
   "cell_type": "markdown",
   "metadata": {},
   "source": [
    "Any number of iterables can be zipped together, and if they are different lengths, the shortest will determine the length of the ``zip``."
   ]
  },
  {
   "cell_type": "markdown",
   "metadata": {
    "slideshow": {
     "slide_type": "subslide"
    }
   },
   "source": [
    "#### ``map(function, iterable, ...)``\n",
    " \n",
    "    Apply function to every item of iterable and return a list of the results."
   ]
  },
  {
   "cell_type": "code",
   "execution_count": null,
   "metadata": {
    "slideshow": {
     "slide_type": "-"
    }
   },
   "outputs": [],
   "source": [
    "list(map(max, L, M, R))"
   ]
  },
  {
   "cell_type": "markdown",
   "metadata": {
    "slideshow": {
     "slide_type": "skip"
    }
   },
   "source": [
    "#### `itertools`"
   ]
  },
  {
   "cell_type": "markdown",
   "metadata": {
    "slideshow": {
     "slide_type": "skip"
    }
   },
   "source": [
    "More specialised iterators are available in a built-in `itertools` module. Example:"
   ]
  },
  {
   "cell_type": "code",
   "execution_count": null,
   "metadata": {
    "slideshow": {
     "slide_type": "skip"
    }
   },
   "outputs": [],
   "source": [
    "from itertools import permutations\n",
    "p = permutations(range(3))\n",
    "print(*p)"
   ]
  },
  {
   "cell_type": "markdown",
   "metadata": {
    "slideshow": {
     "slide_type": "slide"
    }
   },
   "source": [
    "## Errors and exceptions"
   ]
  },
  {
   "cell_type": "markdown",
   "metadata": {
    "slideshow": {
     "slide_type": "-"
    }
   },
   "source": [
    "These things happen...\n",
    "Mistakes come in three basic flavors:\n",
    "\n",
    "- *Syntax errors:* Errors where the code is not valid Python (generally easy to fix)\n",
    "- *Runtime errors:* Errors where syntactically valid code fails to execute, perhaps due to invalid user input (sometimes easy to fix)\n",
    "- *Semantic errors:* Errors in logic: code executes without a problem, but the result is not what you expect (often very difficult to track-down and fix)\n"
   ]
  },
  {
   "cell_type": "markdown",
   "metadata": {
    "slideshow": {
     "slide_type": "fragment"
    }
   },
   "source": [
    "Here we're going to focus on how to deal cleanly with *runtime errors*."
   ]
  },
  {
   "cell_type": "markdown",
   "metadata": {
    "slideshow": {
     "slide_type": "slide"
    }
   },
   "source": [
    "### Catch what you can handle vs. let it fail\n",
    "\n",
    "Errors that go unoticed can be difficult to detect, so often the best option is to let the exception stop the program."
   ]
  },
  {
   "cell_type": "markdown",
   "metadata": {
    "slideshow": {
     "slide_type": "fragment"
    }
   },
   "source": [
    "#### try and except\n",
    "Sometimes specific errors can be handled and an alternate course of action taken."
   ]
  },
  {
   "cell_type": "code",
   "execution_count": null,
   "metadata": {},
   "outputs": [],
   "source": [
    "import sys\n",
    "### Handling exceptions\n",
    "try:\n",
    "    open('myfile')\n",
    "except IOError:\n",
    "    err = sys.exc_info()[1]\n",
    "    print(err)\n",
    "    print('Cannot read file so will use  default values')\n",
    "    # Do alternate action\n",
    "    \n",
    "else:\n",
    "    print('Values were read from myfile')"
   ]
  },
  {
   "cell_type": "markdown",
   "metadata": {
    "slideshow": {
     "slide_type": "skip"
    }
   },
   "source": [
    "## References\n",
    "*A Whirlwind Tour of Python* by Jake VanderPlas (O’Reilly). Copyright 2016 O’Reilly Media, Inc., 978-1-491-96465-1"
   ]
  },
  {
   "cell_type": "markdown",
   "metadata": {
    "slideshow": {
     "slide_type": "slide"
    }
   },
   "source": [
    "## Solutions to Exercise 1 "
   ]
  },
  {
   "cell_type": "code",
   "execution_count": null,
   "metadata": {},
   "outputs": [],
   "source": [
    "N=5\n",
    "#Solution\n",
    "for i in range(N):\n",
    "    for j in range(i+1):\n",
    "        print ('*', end=' ')\n",
    "    print('')\n",
    "print('')"
   ]
  },
  {
   "cell_type": "code",
   "execution_count": null,
   "metadata": {
    "slideshow": {
     "slide_type": "slide"
    }
   },
   "outputs": [],
   "source": [
    "#Solution using break\n",
    "for i in range(N):\n",
    "    for j in range(N):\n",
    "        if (j > i):\n",
    "            break\n",
    "        print('*', end=' ')\n",
    "    print('')"
   ]
  }
 ],
 "metadata": {
  "anaconda-cloud": {},
  "kernelspec": {
   "display_name": "Python [conda env:course2022]",
   "language": "python",
   "name": "conda-env-course2022-py"
  },
  "language_info": {
   "codemirror_mode": {
    "name": "ipython",
    "version": 3
   },
   "file_extension": ".py",
   "mimetype": "text/x-python",
   "name": "python",
   "nbconvert_exporter": "python",
   "pygments_lexer": "ipython3",
   "version": "3.8.13"
  }
 },
 "nbformat": 4,
 "nbformat_minor": 1
}
