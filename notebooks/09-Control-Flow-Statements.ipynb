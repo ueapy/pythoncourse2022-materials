{
 "cells": [
  {
   "cell_type": "markdown",
   "metadata": {
    "slideshow": {
     "slide_type": "slide"
    }
   },
   "source": [
    "# Control Flow\n",
    "Lecture 1: Everything up to iterators  \n",
    "Lecture 2: iterators onwards"
   ]
  },
  {
   "cell_type": "markdown",
   "metadata": {
    "slideshow": {
     "slide_type": "subslide"
    }
   },
   "source": [
    "*Control flow* means controlling how python works its way through a program.\n",
    "Without control flow, a program is a list of statements that are sequentially executed.\n",
    "With control flow, you can execute code blocks conditionally and/or repeatedly. The basic building blocks are:  \n",
    "- conditional statements (including \"`if`\", \"`elif`\", and \"`else`\")\n",
    "- loop statements (including \"`for`\" and \"`while`\" and the accompanying \"`break`\", \"`continue`\", and \"`pass`\")."
   ]
  },
  {
   "cell_type": "markdown",
   "metadata": {
    "slideshow": {
     "slide_type": "slide"
    }
   },
   "source": [
    "## Conditional Statements: `if-elif-else`:"
   ]
  },
  {
   "cell_type": "markdown",
   "metadata": {},
   "source": [
    "Conditional statements, often referred to as *if-then* statements, allow the programmer to execute certain pieces of code depending on a condition. The basic syntax is conditional keyword (like ``if``) + conditional statement + colon, followed by an indented code block to execute if the condition is true."
   ]
  },
  {
   "cell_type": "code",
   "execution_count": null,
   "metadata": {},
   "outputs": [],
   "source": [
    "foo = 'bar'\n",
    "\n",
    "# The 'if' statment will set a criteria, and 'if' the condition is met, it will print 'Condition satisfied'\n",
    "if foo == 'bar':\n",
    "    print('Condition satisfied')\n",
    "    \n",
    "# If the 'if' condition isn't met, the code in the indented block *won't* be executed\n",
    "if foo == 'baz':\n",
    "    print(\"It's baz instead\")"
   ]
  },
  {
   "cell_type": "markdown",
   "metadata": {},
   "source": [
    "**Python conditional statements involve an ``if``, zero or more ``elif`` parts, and an optional final ``else``.**"
   ]
  },
  {
   "cell_type": "markdown",
   "metadata": {},
   "source": [
    "Different conditions can be added using ``elif`` (else if), and a final catch-all condition can be added using ``else``. You can have as many ``elif`` statements after the initial ``if`` as you want, but you only ever use one ``else``."
   ]
  },
  {
   "cell_type": "code",
   "execution_count": null,
   "metadata": {},
   "outputs": [],
   "source": [
    "from IPython.core.display import Image\n",
    "Image('https://i.redd.it/f2ezpunnypa81.jpg')"
   ]
  },
  {
   "cell_type": "markdown",
   "metadata": {},
   "source": [
    "Note the use of colons (``:``) and whitespace (tab) to indent the conditional blocks of code."
   ]
  },
  {
   "cell_type": "code",
   "execution_count": null,
   "metadata": {
    "slideshow": {
     "slide_type": "subslide"
    }
   },
   "outputs": [],
   "source": [
    "x = -15\n",
    "\n",
    "# If x is equal to zero print x, \"is zero\"\n",
    "if x == 0:\n",
    "    print(x, \"is zero\")\n",
    "    \n",
    "# Other wise if x is greater than zero print x, \"is positive\"\n",
    "elif x > 0:\n",
    "    print(x, \"is positive\")\n",
    "    \n",
    "# If all else fails print x, \"is negative\"\n",
    "else:\n",
    "    print(x, \"is negative\")"
   ]
  },
  {
   "cell_type": "markdown",
   "metadata": {},
   "source": [
    "### Exercise 1\n",
    "1. Duplicate the `if/elif/else` code cell and paste it below this cell:\n",
    "    - select the cell above in command mode [blue outline]\n",
    "        - either click roughly where the `In []` is (immediately enter command mode) or click in the code text (enter edit mode) and press escape\n",
    "    - press c to copy\n",
    "    - press down to select this cell\n",
    "    - press v to paste below this cell\n",
    "    \n",
    "    \n",
    "2. In your newly copied cell add an extra elif clause that prints \"x is very negative\" if x is less than -10.  \n",
    "\n",
    "3. Change the else clause to print \"x is a little bit negative\"."
   ]
  },
  {
   "cell_type": "markdown",
   "metadata": {},
   "source": [
    "### `and` and `or`"
   ]
  },
  {
   "cell_type": "markdown",
   "metadata": {},
   "source": [
    "What if you have two conditions that are True? "
   ]
  },
  {
   "cell_type": "code",
   "execution_count": null,
   "metadata": {},
   "outputs": [],
   "source": [
    "x = -15\n",
    "\n",
    "if x % 3 == 0:\n",
    "    print(x, \"is divisible by three.\")\n",
    "elif x < 0:\n",
    "    print(x, \"is negative.\")\n",
    "else:\n",
    "    print(x, \"is something else.\")"
   ]
  },
  {
   "cell_type": "markdown",
   "metadata": {},
   "source": [
    "While both the 'if' and 'elif' condition are true, python ignored the second condition because the first condition had already been satisfied. `if/elif/else` statements are worked through in strict order.\n",
    "\n",
    "If you want it to recognise both conditions there are two ways depending on what exactly you want to achieve:  \n",
    "1. Use two if-statements, no elif (like in the first cell in this notebook):"
   ]
  },
  {
   "cell_type": "code",
   "execution_count": null,
   "metadata": {},
   "outputs": [],
   "source": [
    "x = -15\n",
    "\n",
    "if x % 3 == 0:\n",
    "    print(x, \"is divisible by three.\")\n",
    "if x < 0:\n",
    "    print(x, \"is negative.\") "
   ]
  },
  {
   "cell_type": "markdown",
   "metadata": {},
   "source": [
    "2. Use one if-statement with ``and``:"
   ]
  },
  {
   "cell_type": "code",
   "execution_count": null,
   "metadata": {},
   "outputs": [],
   "source": [
    "x = -15\n",
    "\n",
    "if x % 3 == 0 and x < 0:\n",
    "    print(x, \"is both negative and divisible by 3.\")"
   ]
  },
  {
   "cell_type": "markdown",
   "metadata": {},
   "source": [
    "If you wanted to have an action done if only one of the two conditions are true, and both are equally important, then you can use ``or``."
   ]
  },
  {
   "cell_type": "code",
   "execution_count": null,
   "metadata": {},
   "outputs": [],
   "source": [
    "x = 15\n",
    "\n",
    "if x % 3 == 0 or x < 0:\n",
    "    print(x, \"is either negative or divisible by 3.\")"
   ]
  },
  {
   "cell_type": "markdown",
   "metadata": {},
   "source": [
    "###  Exercise 2\n",
    "Create an empty code cell below this one (select this cell in command mode [blue outline] and press 'b').\n",
    "1. Define a variable `name` which is a string of your name.\n",
    "2. Write a conditional statement that checks whether `name` is a string and if so prints \"That's a string!\". Check this works.\n",
    "    - How do you check the type of a variable?\n",
    "    \n",
    "    \n",
    "3. Below your first conditional statement write a new one that checks for the following conditions in order:\n",
    "\n",
    "    - `name` is not a string: print \"That's not a string!\"\n",
    "    - `name` is a string but not your name: print \"It's a string but it's not my name!\"\n",
    "    - `name` is a string and your name: print \"That's a string and it is my name!\"\n",
    "    - None of the above are true: print \"I have no idea what you entered\"\n",
    "    \n",
    "    \n",
    "4. Try changing `name` to each of the different cases and making sure it works for all of them.\n",
    "\n",
    "#### Extension\n",
    "Create another blank code cell below the one you've just finished.  \n",
    "\n",
    "5. Create a variable called `my_id` and define it as either an integer or a string  \n",
    "6. Write a conditional statement that checks if `my_id` is an integer or a string and if so prints \"That's a valid id\"\n",
    "\n",
    "#### Extension extension\n",
    "Create another blank code cell below the one you've just finished.\n",
    "\n",
    "7. Create a variable called age that asks for user input for the question \"What's your age?\"\n",
    "    - What's the function to ask for user input?\n",
    "8. Write a conditional statement that checks the following conditions:  \n",
    "    - if you can convert age to an integer and if it's greater than 0: if so print \"Your age is {age}\".  \n",
    "    - otherwise print \"Sorry I didn't understand your input\""
   ]
  },
  {
   "cell_type": "markdown",
   "metadata": {
    "slideshow": {
     "slide_type": "slide"
    }
   },
   "source": [
    "## `for` loops\n",
    "Loops in Python are a way to repeatedly execute some code statement. They are an extremely helpful tool which avoid us having to write out each line, but can also be computationally demanding! (see the numpy/array lectures tomorrow for ways around this)."
   ]
  },
  {
   "cell_type": "markdown",
   "metadata": {
    "slideshow": {
     "slide_type": "fragment"
    }
   },
   "source": [
    "We can use a ``for`` loop to print each item in a list:"
   ]
  },
  {
   "cell_type": "code",
   "execution_count": null,
   "metadata": {
    "scrolled": true
   },
   "outputs": [],
   "source": [
    "for i in [2, 3, 5, 7]: \n",
    "    print(i) "
   ]
  },
  {
   "cell_type": "markdown",
   "metadata": {
    "slideshow": {
     "slide_type": "skip"
    }
   },
   "source": [
    "What we are doing here is assigning 'i' to each number in the list [2,3,5,7] in order, then printing the output.  \n",
    "Each number you printed has been placed on a new line. This shows the loop has restarted on the next value in the list. "
   ]
  },
  {
   "cell_type": "code",
   "execution_count": null,
   "metadata": {},
   "outputs": [],
   "source": [
    "Image('https://i.imgur.com/bF8SNro.png')"
   ]
  },
  {
   "cell_type": "markdown",
   "metadata": {
    "slideshow": {
     "slide_type": "skip"
    }
   },
   "source": [
    "#### You can execute whatever code you like in the for loop\n",
    "Say we want to print out the squares of all the numbers in the list. We can define a new variable `x` that's equal to i$^2$ then print `x`.  \n",
    "We can print all the numbers of the same line by telling print() to print each number followed by a '&nbsp; ' rather than a new line character ('\\n')."
   ]
  },
  {
   "cell_type": "code",
   "execution_count": null,
   "metadata": {
    "slideshow": {
     "slide_type": "skip"
    }
   },
   "outputs": [],
   "source": [
    "for i in [2, 3, 5, 7]: # you can replace 'i' with anything you like, but make sure to replace it in the loop too!\n",
    "    x = i ** 2\n",
    "    print(x, end=' ') # print all on same line"
   ]
  },
  {
   "cell_type": "markdown",
   "metadata": {},
   "source": [
    "What do you think the code block below will do?"
   ]
  },
  {
   "cell_type": "code",
   "execution_count": null,
   "metadata": {
    "slideshow": {
     "slide_type": "skip"
    }
   },
   "outputs": [],
   "source": [
    "for N in [2, 3, 5, 7]:\n",
    "    x = N**2\n",
    "    print(x, end=' ') # print all on same line\n",
    "print(x)"
   ]
  },
  {
   "cell_type": "markdown",
   "metadata": {},
   "source": [
    "### Exercise 3\n",
    "Create a new code cell below this one.\n",
    "1. Create a variable called `total` that's equal to 0.\n",
    "2. Write a for loop that adds each number in the list [0, 1, 1, 2, 3, 5, 7] to `total` and prints \"subtotal is {total}\" at each step.\n",
    "3. After the for loop print \"Grand total is {total}\"."
   ]
  },
  {
   "cell_type": "markdown",
   "metadata": {},
   "source": [
    "### List comprehensions"
   ]
  },
  {
   "cell_type": "markdown",
   "metadata": {},
   "source": [
    "A list comprehension is a way of creating a list by looping through an object. They came up in `07-Built in data structures`. They can be a neat way to generate a list, but remember that readability is important and sometimes a for loop might give more clarity."
   ]
  },
  {
   "cell_type": "code",
   "execution_count": null,
   "metadata": {},
   "outputs": [],
   "source": [
    "numbers = [x ** 2 for x in [0,1,2,3]]\n",
    "print(numbers)"
   ]
  },
  {
   "cell_type": "markdown",
   "metadata": {
    "slideshow": {
     "slide_type": "slide"
    }
   },
   "source": [
    "##  Using ``range(start, stop[, step])`` \n",
    "One of the most commonly-used iterators in Python is the ``range`` object, which generates a sequence of numbers. We'll cover iterators in a bit more detail later, but a simple example is:"
   ]
  },
  {
   "cell_type": "code",
   "execution_count": null,
   "metadata": {},
   "outputs": [],
   "source": [
    "for i in range(0, 10):\n",
    "    print(i)"
   ]
  },
  {
   "cell_type": "markdown",
   "metadata": {
    "slideshow": {
     "slide_type": "fragment"
    }
   },
   "source": [
    "Range objects can also have more complicated values:"
   ]
  },
  {
   "cell_type": "code",
   "execution_count": null,
   "metadata": {},
   "outputs": [],
   "source": [
    "# range from 5 to 10\n",
    "[x for x in range(5, 10)]"
   ]
  },
  {
   "cell_type": "code",
   "execution_count": null,
   "metadata": {},
   "outputs": [],
   "source": [
    "# range from 0 to 10 by 2\n",
    "[x for x in range(0, 10, 2)]"
   ]
  },
  {
   "cell_type": "code",
   "execution_count": null,
   "metadata": {},
   "outputs": [],
   "source": [
    "# count down instead of up\n",
    "[x for x in range(10,0,-1)]"
   ]
  },
  {
   "cell_type": "markdown",
   "metadata": {},
   "source": [
    "### Exercise 4\n",
    "Write a for loop or list comprehension that prints out every 4th number counting down from 40 to 24"
   ]
  },
  {
   "cell_type": "markdown",
   "metadata": {
    "slideshow": {
     "slide_type": "slide"
    }
   },
   "source": [
    "## `while` loops\n",
    "The other type of loop in Python is a `while` loop, which iterates until some condition is met. The argument of the `while` loop is evaluated as a boolean statement, and the loop is executed until the statement evaluates to False."
   ]
  },
  {
   "cell_type": "code",
   "execution_count": null,
   "metadata": {},
   "outputs": [],
   "source": [
    "i = 0\n",
    "while i < 10:\n",
    "    print(i, end=' ')\n",
    "    i += 1"
   ]
  },
  {
   "cell_type": "markdown",
   "metadata": {},
   "source": [
    "Here's another example that prints out fibonacci numbers up to a certain value."
   ]
  },
  {
   "cell_type": "code",
   "execution_count": null,
   "metadata": {},
   "outputs": [],
   "source": [
    "a, b = 0, 1\n",
    "amax = 100\n",
    "fibonacci_numbers = []\n",
    "\n",
    "while a < amax:\n",
    "    fibonacci_numbers.append(a)\n",
    "    a, b = b, a + b \n",
    "\n",
    "print(fibonacci_numbers)"
   ]
  },
  {
   "cell_type": "markdown",
   "metadata": {
    "slideshow": {
     "slide_type": "slide"
    }
   },
   "source": [
    "## `pass`, `continue`, `break` : Fine-tuning your For and  While loops\n",
    "\n",
    "- `pass` statement is a placeholder, it does nothing\n",
    "- `continue` statement skips the remainder of the current loop, and goes to the next iteration\n",
    "- `break` statement breaks-out of the loop entirely"
   ]
  },
  {
   "cell_type": "markdown",
   "metadata": {},
   "source": [
    "`pass` is helpful for when you know you need a loop or conditional statement but don't know what to put in it yet."
   ]
  },
  {
   "cell_type": "code",
   "execution_count": null,
   "metadata": {},
   "outputs": [],
   "source": [
    "if 3 > 4:\n",
    "    pass"
   ]
  },
  {
   "cell_type": "markdown",
   "metadata": {
    "slideshow": {
     "slide_type": "fragment"
    }
   },
   "source": [
    "`continue` let's you carry on. Let's print a string of odd numbers."
   ]
  },
  {
   "cell_type": "code",
   "execution_count": null,
   "metadata": {},
   "outputs": [],
   "source": [
    "for n in range(20):\n",
    "    # check if n is even\n",
    "    if n % 2 == 0:\n",
    "        continue # don't do anything here, just move on\n",
    "    print(n,end=\" \")"
   ]
  },
  {
   "cell_type": "markdown",
   "metadata": {},
   "source": [
    "In this case, the result could be accomplished just as well with an ``if-else`` statement, but sometimes the ``continue`` statement can be a more convenient way to express the idea you have in mind:"
   ]
  },
  {
   "cell_type": "markdown",
   "metadata": {
    "slideshow": {
     "slide_type": "subslide"
    }
   },
   "source": [
    "We can use `break` to take us out of a `for` loop once we've done what we needed to do. In this example we search through lists for a value until we find the list that it's in."
   ]
  },
  {
   "cell_type": "code",
   "execution_count": null,
   "metadata": {},
   "outputs": [],
   "source": [
    "# this list contains other lists which is a perfectly valid data structure\n",
    "all_my_lists = [[0, 1, 3, 3], [4, 8, 9], [27, 100, -3, 3], [0, 0, 0, 0]]\n",
    "\n",
    "for l in all_my_lists:  # we want to find the list that has 27 in it\n",
    "    if 27 in l:\n",
    "        break\n",
    "    else:  # the else isn't necessary but I find it helps clarify purpose\n",
    "        continue\n",
    "        \n",
    "print(l)"
   ]
  },
  {
   "cell_type": "markdown",
   "metadata": {},
   "source": [
    "We can use `while True` and `break` to create a continuous loop until a condition is met.\n",
    "\n",
    "In this example we've got a dummy incoming data stream `incoming_data` (random numbers between 0 and 10) that's 'good' so long as the random number is $\\leq$ 8. If it's > 8 then it's 'bad' and we want to `break` out of the loop."
   ]
  },
  {
   "cell_type": "code",
   "execution_count": null,
   "metadata": {},
   "outputs": [],
   "source": [
    "import random\n",
    "\n",
    "while True:\n",
    "    incoming_data = random.randint(0,10)\n",
    "    print(incoming_data)\n",
    "    \n",
    "    if incoming_data > 8:\n",
    "        print(f\"Data went bad with a value of {incoming_data}\")\n",
    "        break"
   ]
  },
  {
   "cell_type": "markdown",
   "metadata": {},
   "source": [
    "When writing a `while` loop you need to make sure there will eventually be a scenario where your condition is no longer true. This `while True` loop would continue forever without the `break`. Wow!"
   ]
  },
  {
   "cell_type": "code",
   "execution_count": null,
   "metadata": {},
   "outputs": [],
   "source": [
    "Image('https://i.kym-cdn.com/photos/images/original/001/352/701/64d.png')"
   ]
  },
  {
   "cell_type": "markdown",
   "metadata": {
    "slideshow": {
     "slide_type": "slide"
    }
   },
   "source": [
    "### Exercise 5"
   ]
  },
  {
   "cell_type": "markdown",
   "metadata": {},
   "source": [
    "Write a program that can print the following pattern for a given triangle size N.\n",
    "\n",
    "\n",
    "For N = 5:  <code>\n",
    "``*``\n",
    "``* *``\n",
    "``* * *``\n",
    "``* * * *``\n",
    "``* * * * *``\n",
    "\n",
    "print('\\*',end=' ')   # to print '\\*' without changing line\n",
    "print('')             # change line\n",
    "</code>"
   ]
  },
  {
   "cell_type": "markdown",
   "metadata": {},
   "source": [
    "### Exercise 6\n",
    "Time to play a game. Fizzbuzz is a simple game for children and therefore suprisingly difficult to code. The rules are:   \n",
    "\n",
    "Everyone sits in a cirle, the player that goes first says 1 and each following player going round the circle says the next number up. If, however, the number is divisible by three the player say *fizz* and if it's divisible by five the player says *buzz*. If it's divisible by three **and** five then they say *fizzbuzz*.\n",
    "\n",
    "1. Write code to print out the right answers in Fizzbuzz up to 20\n",
    "\n",
    "#### Extension\n",
    "2. Make the loop break if someone says *fizzbuzz*\n",
    "\n",
    "#### Extension extension\n",
    "3. What is going on with this solution? http://philcrissman.net/posts/eulers-fizzbuzz/"
   ]
  },
  {
   "cell_type": "markdown",
   "metadata": {
    "slideshow": {
     "slide_type": "slide"
    }
   },
   "source": [
    "---\n",
    "---\n",
    "\n",
    "## Iterators"
   ]
  },
  {
   "cell_type": "markdown",
   "metadata": {},
   "source": [
    "### When is a list not a list?\n",
    "\n",
    "Earlier, we were introduced to the ``range`` object, which can be used to count over a series of numbers, e.g.   "
   ]
  },
  {
   "cell_type": "code",
   "execution_count": null,
   "metadata": {},
   "outputs": [],
   "source": [
    "for i in range(0, 10):\n",
    "    print(i)"
   ]
  },
  {
   "cell_type": "markdown",
   "metadata": {},
   "source": [
    "This returns not a list, but a special object, known as an **iterator**."
   ]
  },
  {
   "cell_type": "code",
   "execution_count": null,
   "metadata": {
    "slideshow": {
     "slide_type": "notes"
    }
   },
   "outputs": [],
   "source": [
    "type(range(10))"
   ]
  },
  {
   "cell_type": "code",
   "execution_count": null,
   "metadata": {},
   "outputs": [],
   "source": [
    "print(range(10))"
   ]
  },
  {
   "cell_type": "code",
   "execution_count": null,
   "metadata": {},
   "outputs": [],
   "source": [
    "type([0,1,2,3,4,5,6,7,8,9])"
   ]
  },
  {
   "cell_type": "markdown",
   "metadata": {
    "slideshow": {
     "slide_type": "skip"
    }
   },
   "source": [
    "#### What is an iterator??"
   ]
  },
  {
   "cell_type": "markdown",
   "metadata": {},
   "source": [
    "*Every iterator is iterable, but not every iterable is an iterator...*"
   ]
  },
  {
   "cell_type": "markdown",
   "metadata": {},
   "source": [
    "As we've seen earlier, lots of objects can be iterable within a loop, including lists, tuples, dictionaries, and even strings."
   ]
  },
  {
   "cell_type": "markdown",
   "metadata": {
    "slideshow": {
     "slide_type": "skip"
    }
   },
   "source": [
    "However, while sometimes appearing to behave just like a list, ``range`` is actually *designed to be iterable within a loop*."
   ]
  },
  {
   "cell_type": "markdown",
   "metadata": {},
   "source": [
    "When you use your list in a `for` loop, it turns that list into an interator, to loop through each next item, e.g., "
   ]
  },
  {
   "cell_type": "code",
   "execution_count": null,
   "metadata": {},
   "outputs": [],
   "source": [
    "mylist = [\"red\", \"orange\", \"yellow\"]\n",
    "myiterator = iter(mylist)\n",
    "\n",
    "print(next(myiterator))\n",
    "print(next(myiterator))\n",
    "print(next(myiterator))\n",
    "#print(next(myiterator))"
   ]
  },
  {
   "cell_type": "markdown",
   "metadata": {
    "slideshow": {
     "slide_type": "fragment"
    }
   },
   "source": [
    "Unless you want to create your own iterator, you don't need to worry about using `iter` and `next` yourself, as these are all dealt with behind the scenes. "
   ]
  },
  {
   "cell_type": "markdown",
   "metadata": {},
   "source": [
    "---\n",
    "\n",
    "### Exercise 7"
   ]
  },
  {
   "cell_type": "markdown",
   "metadata": {},
   "source": [
    "a) Create `for` loops that will print the iterable items within each of the following: \n",
    "\n",
    "i. `mynumbers = [1,2,3]`\n",
    "\n",
    "ii. `mystrings = [\"red\", \"orange\", \"yellow\"]`\n",
    "\n",
    "iii. `mystring = \"red\"`\n",
    "\n",
    "b) What happens if you try to pass the following into a for loop:`[\"red\"]`?"
   ]
  },
  {
   "cell_type": "markdown",
   "metadata": {},
   "source": [
    "---\n",
    "\n",
    "For **iterator objects** like `range`, they are designed to be used within a loop, meaning *the full list is never created*.\n",
    "\n",
    "So, while `range` can initially be seen as simply a useful method of creating a list of numbers, if you use `range` in your loop, even for small lists, this will also save you memory. "
   ]
  },
  {
   "cell_type": "code",
   "execution_count": null,
   "metadata": {},
   "outputs": [],
   "source": [
    "# We can compare the amount of memory used to store a list or a range object: \n",
    "import sys\n",
    "\n",
    "n = 100 # WARNING: increasing this value will use up a lot of memory on your machine!! \n",
    "\n",
    "print(f'Size of range object: {sys.getsizeof(range(n))} bytes')\n",
    "\n",
    "print(f'Size of list object: {sys.getsizeof(list(range(n)))} bytes')"
   ]
  },
  {
   "cell_type": "markdown",
   "metadata": {},
   "source": [
    "So, if you wanted to iterate over a stupidly large number of items (e.g., `range(1e9)`), you don't have to worry about storing all the values of your iterator. (BUT DON'T TRY THIS IN THE EXAMPLE ABOVE!)"
   ]
  },
  {
   "cell_type": "markdown",
   "metadata": {
    "slideshow": {
     "slide_type": "slide"
    }
   },
   "source": [
    "### Other useful iterators"
   ]
  },
  {
   "cell_type": "markdown",
   "metadata": {},
   "source": [
    "### ``enumerate``\n",
    "\n",
    "Often you want to iterate over not only the values, but also their index (or position) in a list.\n",
    "\n",
    "You might be tempted to do things this way:"
   ]
  },
  {
   "cell_type": "code",
   "execution_count": null,
   "metadata": {},
   "outputs": [],
   "source": [
    "mystrings = [\"red\", \"orange\", \"yellow\"]\n",
    "length = len(mystrings)\n",
    "\n",
    "for i in range(length):\n",
    "    print(i, mystrings[i])"
   ]
  },
  {
   "cell_type": "markdown",
   "metadata": {},
   "source": [
    "However, the ``enumerate`` iterator can do the job for you:"
   ]
  },
  {
   "cell_type": "code",
   "execution_count": null,
   "metadata": {},
   "outputs": [],
   "source": [
    "mystrings = [\"red\", \"orange\", \"yellow\"]\n",
    "\n",
    "for i, value in enumerate(mystrings):\n",
    "    print(i, value)"
   ]
  },
  {
   "cell_type": "markdown",
   "metadata": {},
   "source": [
    "`enumerate` also accepts an additional optional argument:"
   ]
  },
  {
   "cell_type": "code",
   "execution_count": null,
   "metadata": {},
   "outputs": [],
   "source": [
    "for i, value in enumerate(mystrings, 10): # notice here we start the counter at 10, not 0!\n",
    "    print(i, value)"
   ]
  },
  {
   "cell_type": "markdown",
   "metadata": {
    "slideshow": {
     "slide_type": "subslide"
    }
   },
   "source": [
    "### ``zip([iterable, ...])``\n",
    "    "
   ]
  },
  {
   "cell_type": "markdown",
   "metadata": {},
   "source": [
    "The `zip` function takes a series of *iterable* objects, and converts them into an *iterator*. \n",
    "\n",
    "You can then iterate over several iterables at the same time, e.g.,"
   ]
  },
  {
   "cell_type": "code",
   "execution_count": null,
   "metadata": {},
   "outputs": [],
   "source": [
    "colours = [\"red\", \"orange\", \"yellow\"]\n",
    "wavelengths = [700, 630, 580] # approx.\n",
    "\n",
    "for c, l in zip(colours, wavelengths):\n",
    "    print(f'{c} has a wavelength ~ {l}')"
   ]
  },
  {
   "cell_type": "markdown",
   "metadata": {},
   "source": [
    "Zipping together avoids the need to use indices to extract values from each individual list. \n",
    "\n",
    "Any number of iterables can be zipped together, and if they are different lengths, the shortest will determine the length of the ``zip``."
   ]
  },
  {
   "cell_type": "markdown",
   "metadata": {
    "slideshow": {
     "slide_type": "subslide"
    }
   },
   "source": [
    "### ``map(function, iterable, ...)``\n",
    " "
   ]
  },
  {
   "cell_type": "markdown",
   "metadata": {},
   "source": [
    "This allows you to apply a function to every item of an iterable (or list of iterables)."
   ]
  },
  {
   "cell_type": "markdown",
   "metadata": {
    "slideshow": {
     "slide_type": "-"
    }
   },
   "source": [
    "For example, say you have a number of volunteers submitting the number of starts they can count within Orion over four nights (similar to this [citizen science activity](https://www.cpre.org.uk/what-we-care-about/nature-and-landscapes/dark-skies/star-count-2022/)):"
   ]
  },
  {
   "cell_type": "code",
   "execution_count": null,
   "metadata": {},
   "outputs": [],
   "source": [
    "count1 = [14, 10, 5, 0]\n",
    "count2 = [13, 12, 3, 0]\n",
    "count3 = [13, 11, 0, 0]"
   ]
  },
  {
   "cell_type": "markdown",
   "metadata": {},
   "source": [
    "We can use the following to print the maximum number of stars counted out of all the volunteers each night: "
   ]
  },
  {
   "cell_type": "code",
   "execution_count": null,
   "metadata": {},
   "outputs": [],
   "source": [
    "for maximum in map(max, count1, count2, count3): \n",
    "    print(maximum)"
   ]
  },
  {
   "cell_type": "code",
   "execution_count": null,
   "metadata": {},
   "outputs": [],
   "source": [
    "# Or used within enumerate: \n",
    "for day, maximum in enumerate(map(max, count1, count2, count3), 1): \n",
    "    print(f'Day {day}: {maximum} stars')"
   ]
  },
  {
   "cell_type": "markdown",
   "metadata": {
    "slideshow": {
     "slide_type": "skip"
    }
   },
   "source": [
    "### `itertools`"
   ]
  },
  {
   "cell_type": "markdown",
   "metadata": {
    "slideshow": {
     "slide_type": "skip"
    }
   },
   "source": [
    "Many more iterators are available through the [`itertools`](https://docs.python.org/3/library/itertools.html) module, e.g. "
   ]
  },
  {
   "cell_type": "code",
   "execution_count": null,
   "metadata": {
    "slideshow": {
     "slide_type": "skip"
    }
   },
   "outputs": [],
   "source": [
    "from itertools import accumulate\n",
    "\n",
    "daily_distances = [5, 2, 1, 2, 3]\n",
    "\n",
    "for subtotal in accumulate(daily_distances):\n",
    "    print('Distance to date: {:} km'.format(subtotal))"
   ]
  },
  {
   "cell_type": "markdown",
   "metadata": {},
   "source": [
    "---\n",
    "\n",
    "### Exercise 8"
   ]
  },
  {
   "cell_type": "markdown",
   "metadata": {},
   "source": [
    "For a meal booked at a restaurant, you know the names of the guests, and the number of their meal choices from the menu.  \n",
    "\n",
    "`guests = ['Tiago', 'Jenny', 'Harry']`\n",
    "\n",
    "`menu_choices = [3, 1, 5]`\n",
    "\n",
    "Use a loop to print the food that each guest has chosen from this menu: \n",
    "\n",
    "`menu = ['Pancakes', 'Pasta', 'Pasty', 'Pie', 'Pizza']`\n",
    "\n",
    "NB. The menu options start at 1 (not zero). "
   ]
  },
  {
   "cell_type": "markdown",
   "metadata": {
    "slideshow": {
     "slide_type": "slide"
    }
   },
   "source": [
    "---\n",
    "\n",
    "## Errors and exceptions"
   ]
  },
  {
   "cell_type": "markdown",
   "metadata": {
    "slideshow": {
     "slide_type": "-"
    }
   },
   "source": [
    "These things happen... \n",
    "\n",
    "Mistakes can come in three basic flavors:\n",
    "\n",
    "- **Syntax errors:** \n",
    "  - When code is not valid Python (can be easy to fix, e.g., missing a `:` at the start of your loop)\n",
    "- **Runtime errors:** \n",
    "  - When your valid code fails to execute, perhaps due to invalid user input (sometimes easy to fix, e.g., when you've read the wrong input data)\n",
    "- **Semantic errors:** \n",
    "  - Code executes without a problem, but the result is not what you expect (as python doesn't know what you expected, errors can be very difficult to track-down and fix)\n"
   ]
  },
  {
   "cell_type": "markdown",
   "metadata": {
    "slideshow": {
     "slide_type": "fragment"
    }
   },
   "source": [
    "Here we're going to focus on how you can cleanly deal with *runtime errors* (recognised in python) in your code."
   ]
  },
  {
   "cell_type": "markdown",
   "metadata": {
    "slideshow": {
     "slide_type": "fragment"
    }
   },
   "source": [
    "### `try` and `except`: how to manage errors?\n"
   ]
  },
  {
   "cell_type": "markdown",
   "metadata": {},
   "source": [
    "Sometimes expected errors can be handled within the programme, and an alternate course of action taken."
   ]
  },
  {
   "cell_type": "code",
   "execution_count": null,
   "metadata": {},
   "outputs": [],
   "source": [
    "filename = 'myfile'\n",
    "\n",
    "try:\n",
    "    open(filename)\n",
    "    # Read data here ...\n",
    "    \n",
    "except OSError as err:\n",
    "    print(err)\n",
    "    print('\\n WARNING: Cannot read file so will use default values')\n",
    "    \n",
    "    # Do alternate action here ...\n",
    "\n",
    "except : \n",
    "    print('Unexpected error:')\n",
    "    raise\n",
    "        "
   ]
  },
  {
   "cell_type": "markdown",
   "metadata": {},
   "source": [
    "We use `OSError` above to specify the type of exception that we expect might happen, if the file does not exist. \n",
    "\n",
    "Descriptions of the various exception types that can be used for error handling can be found [here](https://docs.python.org/3/library/exceptions.html).  \n",
    "\n",
    "You could add different exceptions to deal with different types of error. \n",
    "\n",
    "Or, if you want to stop the programme and flag the error, then you can `raise` the exception. \n"
   ]
  },
  {
   "cell_type": "markdown",
   "metadata": {},
   "source": [
    "---\n",
    "\n",
    "### Exercise 9"
   ]
  },
  {
   "cell_type": "markdown",
   "metadata": {},
   "source": [
    "The python documentation shows an example of how to deal with a ValueErrors for user input [here](https://docs.python.org/3/tutorial/errors.html#handling-exceptions). "
   ]
  },
  {
   "cell_type": "markdown",
   "metadata": {},
   "source": [
    "```\n",
    "while True:\n",
    "    try:\n",
    "        x = int(input(\"Please enter a number: \"))\n",
    "        break\n",
    "    except ValueError:\n",
    "        print(\"Oops!  That was no valid number.  Try again...\")\n",
    "```"
   ]
  },
  {
   "cell_type": "markdown",
   "metadata": {},
   "source": [
    "Combine this with the example above, to ask the user for the filename, and check whether the filename has either: \n",
    "\n",
    " * More than 6 characters,\n",
    " * Use default values if the file specified doesn't exist, \n",
    " * Raise an error for other unexpected problems. \n",
    "    "
   ]
  },
  {
   "cell_type": "markdown",
   "metadata": {},
   "source": [
    "***Extension:***\n",
    "\n",
    "Can you add a condition to flag when there are spaces in the filename? "
   ]
  },
  {
   "cell_type": "markdown",
   "metadata": {},
   "source": [
    "*Tips: This exercise uses a combination of conditions that we've seen throughout this session.* \n",
    "\n",
    "*If using `while True`, make sure you include `break` statements to avoid getting stuck in infinite loops!*"
   ]
  },
  {
   "cell_type": "markdown",
   "metadata": {
    "slideshow": {
     "slide_type": "skip"
    }
   },
   "source": [
    "---\n",
    "\n",
    "## References\n",
    "*A Whirlwind Tour of Python* by Jake VanderPlas (O’Reilly). Copyright 2016 O’Reilly Media, Inc., 978-1-491-96465-1"
   ]
  },
  {
   "cell_type": "markdown",
   "metadata": {
    "slideshow": {
     "slide_type": "slide"
    }
   },
   "source": [
    "---\n",
    "---\n",
    "\n",
    "## Solutions to Exercises"
   ]
  },
  {
   "cell_type": "markdown",
   "metadata": {},
   "source": [
    "#### Exercise 1"
   ]
  },
  {
   "cell_type": "code",
   "execution_count": null,
   "metadata": {
    "slideshow": {
     "slide_type": "subslide"
    }
   },
   "outputs": [],
   "source": [
    "x = -15\n",
    "\n",
    "# If x is equal to zero print x, \"is zero\"\n",
    "if x == 0:\n",
    "    print(x, \"is zero\")\n",
    "    \n",
    "# Other wise if x is greater than zero print x, \"is positive\"\n",
    "elif x > 0:\n",
    "    print(x, \"is positive\")\n",
    "    \n",
    "# If all else fails print x, \"is negative\"\n",
    "else:\n",
    "    print(x, \"is negative\")"
   ]
  },
  {
   "cell_type": "markdown",
   "metadata": {},
   "source": [
    "#### Exercise 2"
   ]
  },
  {
   "cell_type": "code",
   "execution_count": null,
   "metadata": {},
   "outputs": [],
   "source": [
    "name = \"harry\"\n",
    "\n",
    "if type(name) == str:\n",
    "    print(\"That's a string!\")\n",
    "    \n",
    "if type(name) != str:\n",
    "    print(\"That's not a string!\")\n",
    "elif type(name) == str and name != \"harry\":\n",
    "    print(\"That's a string but it's not my name!\")\n",
    "elif type(name) == str and name == \"harry\":\n",
    "    print(\"It's a string and it is my name!\")\n",
    "else:\n",
    "    print(\"I don't know what you entered\")"
   ]
  },
  {
   "cell_type": "markdown",
   "metadata": {},
   "source": [
    "##### Extension"
   ]
  },
  {
   "cell_type": "code",
   "execution_count": null,
   "metadata": {},
   "outputs": [],
   "source": [
    "my_id = 47\n",
    "\n",
    "if type(my_id) == int or type(my_id) == str:\n",
    "    print(\"That's a valid id\")"
   ]
  },
  {
   "cell_type": "markdown",
   "metadata": {},
   "source": [
    "##### Extension extension"
   ]
  },
  {
   "cell_type": "code",
   "execution_count": null,
   "metadata": {},
   "outputs": [],
   "source": [
    "age = input(\"What's your age?\")\n",
    "\n",
    "if int(age) > 0:\n",
    "    print(f\"Your age is {age}\")\n",
    "else:\n",
    "    print(\"Sorry I didn't understand your input\")"
   ]
  },
  {
   "cell_type": "markdown",
   "metadata": {},
   "source": [
    "#### Exercise 3"
   ]
  },
  {
   "cell_type": "code",
   "execution_count": null,
   "metadata": {},
   "outputs": [],
   "source": [
    "total = 0\n",
    "for x in [0, 1, 1, 2, 3, 5, 7]:\n",
    "    total += x\n",
    "    print(f\"subtotal is {total}\")\n",
    "print(f\"Grand total is {total}\")"
   ]
  },
  {
   "cell_type": "markdown",
   "metadata": {},
   "source": [
    "#### Exercise 4"
   ]
  },
  {
   "cell_type": "code",
   "execution_count": null,
   "metadata": {},
   "outputs": [],
   "source": [
    "for x in range(40,23,-4):\n",
    "    print(x)"
   ]
  },
  {
   "cell_type": "markdown",
   "metadata": {},
   "source": [
    "#### Exercise 5"
   ]
  },
  {
   "cell_type": "code",
   "execution_count": null,
   "metadata": {},
   "outputs": [],
   "source": [
    "N = 5\n",
    "\n",
    "for i in range(N):\n",
    "    for j in range(i+1):\n",
    "        print ('*', end=' ')\n",
    "    print('')\n",
    "print('')"
   ]
  },
  {
   "cell_type": "code",
   "execution_count": null,
   "metadata": {
    "slideshow": {
     "slide_type": "slide"
    }
   },
   "outputs": [],
   "source": [
    "#Solution using break\n",
    "for i in range(N):\n",
    "    for j in range(N):\n",
    "        if (j > i):\n",
    "            break\n",
    "        print('*', end=' ')\n",
    "    print('')"
   ]
  },
  {
   "cell_type": "markdown",
   "metadata": {},
   "source": [
    "#### Exercise 6"
   ]
  },
  {
   "cell_type": "code",
   "execution_count": null,
   "metadata": {},
   "outputs": [],
   "source": [
    "for x in range(1, 21):\n",
    "    if x % 3 == 0 and x % 5 == 0:\n",
    "        print(\"fizzbuzz\")  # add a break here for the extension\n",
    "    elif x % 3 == 0:\n",
    "        print(\"fizz\")\n",
    "    elif x % 5 == 0:\n",
    "        print(\"buzz\")\n",
    "    else:\n",
    "        print(x)"
   ]
  },
  {
   "cell_type": "markdown",
   "metadata": {},
   "source": [
    "#### Exercise 7"
   ]
  },
  {
   "cell_type": "code",
   "execution_count": null,
   "metadata": {},
   "outputs": [],
   "source": [
    "mynumbers = [1,2,3]\n",
    "for item in mynumbers: \n",
    "    print(item)"
   ]
  },
  {
   "cell_type": "code",
   "execution_count": null,
   "metadata": {},
   "outputs": [],
   "source": [
    "mystrings = [\"red\", \"orange\", \"yellow\"]\n",
    "for item in mystrings:\n",
    "    print(item)"
   ]
  },
  {
   "cell_type": "code",
   "execution_count": null,
   "metadata": {},
   "outputs": [],
   "source": [
    "mystring = \"red\"\n",
    "for item in mystring: \n",
    "    print(item)"
   ]
  },
  {
   "cell_type": "code",
   "execution_count": null,
   "metadata": {},
   "outputs": [],
   "source": [
    "testing = [\"red\"]\n",
    "for item in testing: \n",
    "    print(item)"
   ]
  },
  {
   "cell_type": "markdown",
   "metadata": {},
   "source": [
    "#### Exercise 8"
   ]
  },
  {
   "cell_type": "code",
   "execution_count": null,
   "metadata": {},
   "outputs": [],
   "source": [
    "guests = ['Tiago', 'Jenny', 'Harry']\n",
    "menu_choices = [3, 1, 5]\n",
    "menu = ['Pancakes', 'Pasta', 'Pasty', 'Pie', 'Pizza']\n",
    "\n",
    "for name, choice in zip(guests, menu_choices): \n",
    "    print(f'{name} has chosen: {menu[choice-1]}')"
   ]
  },
  {
   "cell_type": "markdown",
   "metadata": {},
   "source": [
    "#### Exercise 9"
   ]
  },
  {
   "cell_type": "code",
   "execution_count": null,
   "metadata": {},
   "outputs": [],
   "source": [
    "while True:\n",
    "    try:\n",
    "        filename = input(\"Please enter a filename: \")\n",
    "        if len(filename)<6:\n",
    "            print('Filenames have at least 6 characters, please try again...')\n",
    "            continue\n",
    "        else:\n",
    "            open(filename)\n",
    "            # Read data here ...\n",
    "            break\n",
    "    \n",
    "    except OSError as err:\n",
    "        print(err)\n",
    "        print('\\n WARNING: Cannot read file so will use default values')\n",
    "        # Do alternate action here ...\n",
    "        break\n",
    "\n",
    "    except: \n",
    "        print('Unexpected error:')\n",
    "        raise"
   ]
  },
  {
   "cell_type": "markdown",
   "metadata": {},
   "source": [
    "***Extension***"
   ]
  },
  {
   "cell_type": "code",
   "execution_count": null,
   "metadata": {},
   "outputs": [],
   "source": [
    "while True:\n",
    "    try:\n",
    "        filename = input(\"Please enter a filename: \")\n",
    "        if len(filename)<6:\n",
    "            print('Filenames have at least 6 characters, please try again...')\n",
    "            continue\n",
    "\n",
    "        # === Added: ===\n",
    "        elif ' ' in filename:\n",
    "            print('Filenames cannot contain spaces, please try again...')\n",
    "            continue\n",
    "            \n",
    "        else:\n",
    "            open(filename)\n",
    "            # Read data here ...\n",
    "            break\n",
    "    \n",
    "    except OSError as err:\n",
    "        print(err)\n",
    "        print('\\n WARNING: Cannot read file so will use default values')\n",
    "        # Do alternate action here ...\n",
    "        break\n",
    "\n",
    "    except: \n",
    "        print('Unexpected error:')\n",
    "        raise"
   ]
  }
 ],
 "metadata": {
  "anaconda-cloud": {},
  "kernelspec": {
   "display_name": "Python 3 (ipykernel)",
   "language": "python",
   "name": "python3"
  },
  "language_info": {
   "codemirror_mode": {
    "name": "ipython",
    "version": 3
   },
   "file_extension": ".py",
   "mimetype": "text/x-python",
   "name": "python",
   "nbconvert_exporter": "python",
   "pygments_lexer": "ipython3",
   "version": "3.8.13"
  }
 },
 "nbformat": 4,
 "nbformat_minor": 1
}
