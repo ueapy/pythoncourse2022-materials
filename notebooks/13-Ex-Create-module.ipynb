{
 "cells": [
  {
   "cell_type": "markdown",
   "metadata": {},
   "source": [
    "# Solution: create a module and reuse code from it (1 h)"
   ]
  },
  {
   "cell_type": "markdown",
   "metadata": {},
   "source": [
    "Extend the exercise from today by applying what you've just learned about packages and code reusability."
   ]
  },
  {
   "cell_type": "markdown",
   "metadata": {},
   "source": [
    "## Outline"
   ]
  },
  {
   "cell_type": "markdown",
   "metadata": {},
   "source": [
    "1. Put your `calc_co2e` function into a new module (.py file)\n",
    "2. Create a new function that calculates the distance between two cities\n",
    "3. Use `import` to access these functions from another file or a notebook"
   ]
  },
  {
   "cell_type": "markdown",
   "metadata": {},
   "source": [
    "**1. Put your `calc_co2e` function into a new module**  \n",
    "Create a module called flight_calcs.py to hold your `calc_co2e` function. A few ways to do this:\n",
    "- In Jupyter e.g. !echo # Flight calculations > flight_calcs.py\n",
    "- You can use Jupyter notebook Home page to create a New->Text File in the same directory as this notebook.\n",
    "    - The file can then be renamed from untitled.txt to flight_calc.py in the page's File menu.\n",
    "- In Windows e.g. use Notepad to save a new file as 'All files' and flight_calcs.py\n",
    "\n",
    "Once you've made flight_calcs.py put the calc_co2e function you made into it (or use the one below from the solutions)."
   ]
  },
  {
   "cell_type": "code",
   "execution_count": null,
   "metadata": {},
   "outputs": [],
   "source": [
    "def calc_co2e(dist,\n",
    "              returnf=False,\n",
    "              firstclass=False,\n",
    "              radforc=2.0,\n",
    "              ):\n",
    "    \"\"\"\n",
    "    calculate equivalent carbon emissions from flights\n",
    "    \n",
    "    Parameters\n",
    "    ==========\n",
    "    dist - flight distance in km\n",
    "    \n",
    "    Optional inputs\n",
    "    ---------------\n",
    "    returnf - Return flight (default=False)\n",
    "    firstclass - First class flight (default=False)\n",
    "    radforc - radiative forcing factor (default=2.0)\n",
    "    \n",
    "    Returns\n",
    "    =======\n",
    "    CO2 equivalent emissions in kg\n",
    "\n",
    "    Emission factors (kg CO2e/pkm)\n",
    "    https://flygrn.com/blog/carbon-emission-factors-used-by-flygrn\n",
    "    \n",
    "    0.26744  < 700 km \n",
    "    0.15845  700 – 2500\n",
    "    0.15119  > 2500 km \n",
    "    \"\"\"\n",
    "\n",
    "    if dist < 700:\n",
    "        emm_factor = 0.26744\n",
    "    elif dist > 2500:\n",
    "        emm_factor = 0.15119\n",
    "    else:\n",
    "        emm_factor = 0.15845\n",
    "        \n",
    "    co2e = emm_factor * dist\n",
    "\n",
    "    if returnf:\n",
    "        co2e = co2e * 2\n",
    "    if firstclass:\n",
    "        co2e = co2e * 2\n",
    "    \n",
    "    co2e = co2e / 2.0 * radforc\n",
    "    \n",
    "    return co2e"
   ]
  },
  {
   "cell_type": "markdown",
   "metadata": {},
   "source": [
    "**2. Create a new function that calculates the distance between two cities**"
   ]
  },
  {
   "cell_type": "markdown",
   "metadata": {},
   "source": [
    "This is a two step process. Calculate co-ordinates of locations then find the distance between those co-ordinates.\n",
    "* The function `get_latlon` is provided to obtain the latitude and logitude for a given location from the openstreetmap.org API.\n",
    "* Test this function for several locations\n",
    "* NB `import` statements should almost always go [at the top of your module](https://peps.python.org/pep-0008/#imports), so when you copy the cell below into your module you should put the two import statements above calc_co2e(). "
   ]
  },
  {
   "cell_type": "code",
   "execution_count": null,
   "metadata": {},
   "outputs": [],
   "source": [
    "import requests\n",
    "import urllib.parse\n",
    "\n",
    "def get_latlon(location):\n",
    "    \n",
    "    url = 'https://nominatim.openstreetmap.org/search/' + urllib.parse.quote(location) +'?format=json'\n",
    "\n",
    "    response = requests.get(url).json()\n",
    "\n",
    "    if not response:\n",
    "        print('Location not found:', location)\n",
    "    \n",
    "    lat = float(response[0][\"lat\"])\n",
    "    lon = float(response[0][\"lon\"])\n",
    "    \n",
    "    return (lat, lon)"
   ]
  },
  {
   "cell_type": "code",
   "execution_count": null,
   "metadata": {},
   "outputs": [],
   "source": [
    "# Check this works\n",
    "get_latlon('North Pole')"
   ]
  },
  {
   "cell_type": "markdown",
   "metadata": {},
   "source": [
    "Write a function `calc_dist` that takes place names as arguments, uses `get_latlon` to find the co-ordinates of the two places, then calculates the distance between them using a Great Circle approximation for the Earth."
   ]
  },
  {
   "cell_type": "code",
   "execution_count": null,
   "metadata": {},
   "outputs": [],
   "source": [
    "from math import cos, sin, acos, pi\n",
    "\n",
    "def calc_dist(origin, destination):\n",
    "    \"\"\"\n",
    "    Calculate distances for a given itenerary\n",
    "    \n",
    "    Inputs\n",
    "    ------\n",
    "    origin, destination - names of the cities\n",
    "        \n",
    "    Returns\n",
    "    -------\n",
    "    distance in km\n",
    "    \n",
    "    Uses Great circle approximation for spherical earth\n",
    "    dist = 6378.388 * acos(sin(lat1) * sin(lat2) + cos(lat1) * cos(lat2) * cos(lon2 - lon1))\n",
    "    where lat and lon are in radians (rad=deg/180*pi)\n",
    "    \"\"\"\n",
    "    pass"
   ]
  },
  {
   "cell_type": "markdown",
   "metadata": {},
   "source": [
    "Check that your function is working"
   ]
  },
  {
   "cell_type": "code",
   "execution_count": null,
   "metadata": {},
   "outputs": [],
   "source": [
    "calc_dist('London', 'Auckland')"
   ]
  },
  {
   "cell_type": "markdown",
   "metadata": {},
   "source": [
    "**3. Use `import` to access these functions from another file or a notebook**\n",
    "* Copy the three functions `get_latlon`,`calc_dist` and `calc_co2e` to flight_calcs.py\n",
    "* Use import to access these functions from another file or a notebook\n",
    "* Call `calc_dist` followed by `calc_co2e` to calculate carbon emissions between two locations"
   ]
  },
  {
   "cell_type": "code",
   "execution_count": null,
   "metadata": {},
   "outputs": [],
   "source": [
    "import flight_calcs \n",
    "\"\"\"\n",
    "Note: This is only done once, any changes to \n",
    "      the kernel will be ignored until the kernel\n",
    "      is restarted\n",
    "\"\"\"\n",
    "\n",
    "origin='London'\n",
    "destination = 'Ibiza'\n",
    "dist = flight_calcs.calc_dist(origin,destination)\n",
    "co2e = flight_calcs.calc_co2e(dist)\n",
    "\n",
    "print( f'Carbon emissions for flight {origin}->{destination}: {co2e:.0f}kg') "
   ]
  },
  {
   "cell_type": "markdown",
   "metadata": {},
   "source": [
    "**Bonus**"
   ]
  },
  {
   "cell_type": "code",
   "execution_count": null,
   "metadata": {},
   "outputs": [],
   "source": [
    "import json"
   ]
  },
  {
   "cell_type": "markdown",
   "metadata": {},
   "source": [
    "Explore what json.dump() does."
   ]
  }
 ],
 "metadata": {
  "anaconda-cloud": {},
  "kernelspec": {
   "display_name": "Python 3 (ipykernel)",
   "language": "python",
   "name": "python3"
  },
  "language_info": {
   "codemirror_mode": {
    "name": "ipython",
    "version": 3
   },
   "file_extension": ".py",
   "mimetype": "text/x-python",
   "name": "python",
   "nbconvert_exporter": "python",
   "pygments_lexer": "ipython3",
   "version": "3.9.6"
  }
 },
 "nbformat": 4,
 "nbformat_minor": 1
}
