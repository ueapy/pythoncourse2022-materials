{
 "cells": [
  {
   "cell_type": "markdown",
   "metadata": {
    "slideshow": {
     "slide_type": "slide"
    }
   },
   "source": [
    "# Python Language Syntax\n",
    "\n",
    "* Python was originally developed as a teaching language\n",
    "\n",
    "* The cleanliness of Python's syntax has led some to call it \"executable pseudocode\"\n",
    "\n",
    "Syntax refers to the structure of the language (i.e., what constitutes a correctly-formed program).\n",
    "For the time being, we'll not focus on the semantics - the meaning of the words and symbols within the syntax - but will return to this at a later point.\n",
    "\n",
    "## Example"
   ]
  },
  {
   "cell_type": "code",
   "execution_count": null,
   "metadata": {
    "slideshow": {
     "slide_type": "fragment"
    }
   },
   "outputs": [],
   "source": [
    "# set the midpoint\n",
    "midpoint = 5\n",
    "\n",
    "# make two empty lists\n",
    "lower = []; upper = []\n",
    "\n",
    "# split the numbers into lower and upper\n",
    "for i in range(10):\n",
    "    if (i < midpoint):\n",
    "        lower.append(i)\n",
    "    else:\n",
    "        upper.append(i)\n",
    "        \n",
    "print(\"lower:\", lower)\n",
    "print(\"upper:\", upper)"
   ]
  },
  {
   "cell_type": "markdown",
   "metadata": {
    "slideshow": {
     "slide_type": "fragment"
    }
   },
   "source": [
    "This script is a bit silly, but it compactly illustrates several of the important aspects of Python syntax.\n",
    "Let's walk through it and discuss some of the syntactical features of Python.\n",
    "\n",
    "## Comments are marked by ``#``\n",
    "\n",
    "The script starts with a comment (this means that python won't read this line... but this is very useful to provide information about your code):\n",
    "``` python\n",
    "# set the midpoint\n",
    "```\n",
    "Comments in Python are indicated by ``#``, and anything on the line following the numbers sign is ignored by the interpreter.\n",
    "\n",
    "This means, for example, that you can have stand-alone comments like the one just shown, as well as inline comments that follow a statement. For example:\n",
    "``` python\n",
    "x += 2  # shorthand for x = x + 2\n",
    "```\n",
    "So above, Python reads the first bit of code, but ignores the 'comment' afterwards.\n",
    "\n",
    "## End-of-line terminates a statement\n",
    "The next line in the script is\n",
    "``` python\n",
    "midpoint = 5\n",
    "```\n",
    "This is an assignment operation, where we've created a variable named ``midpoint`` and assigned it the value ``5``.\n",
    "Notice that the end of this statement is simply marked by the end of the line.\n",
    "\n",
    "In Python, if you'd like a statement to continue to the next line, it is possible to use the \"``\\``\" marker to indicate this:"
   ]
  },
  {
   "cell_type": "code",
   "execution_count": null,
   "metadata": {
    "slideshow": {
     "slide_type": "skip"
    }
   },
   "outputs": [],
   "source": [
    "x = 1 + 2 + 3 + 4 +\\\n",
    "    5 + 6 + 7 + 8"
   ]
  },
  {
   "cell_type": "markdown",
   "metadata": {
    "slideshow": {
     "slide_type": "skip"
    }
   },
   "source": [
    "It is also possible to continue expressions on the next line within parentheses (or brackets), without using the \"``\\``\" marker:"
   ]
  },
  {
   "cell_type": "code",
   "execution_count": null,
   "metadata": {
    "slideshow": {
     "slide_type": "skip"
    }
   },
   "outputs": [],
   "source": [
    "x = (1 + 2 + 3 + 4 +\n",
    "     5 + 6 + 7 + 8)"
   ]
  },
  {
   "cell_type": "markdown",
   "metadata": {
    "slideshow": {
     "slide_type": "skip"
    }
   },
   "source": [
    "The best way is to use the line continuation (within parentheses).\n",
    "\n",
    "## Semicolon can optionally terminate a statement\n",
    "Sometimes it can be useful to put multiple statements on a single line.\n",
    "\n",
    "The next portion of the script is\n",
    "``` python\n",
    "lower = []; upper = []\n",
    "```\n",
    "This shows the example of how the semicolon (``;``) familiar in C can be used optionally in Python to put two statements on a single line.\n",
    "\n",
    "This is exactly the same as writing the below in Python:\n",
    "``` python\n",
    "lower = []\n",
    "upper = []\n",
    "```\n",
    "Using a semicolon to put multiple statements on a single line is generally discouraged by most Python style guides, though occasionally it proves convenient.\n",
    "\n",
    "## Indentation matters\n",
    "\n",
    "Python language uses indentation (whitespace, multiple spaces) to distinguish specific blocks of code.\n",
    "\n",
    "* Python recognises 4 spaces as indentation \n",
    "\n",
    "* the top line is the controlling statement\n",
    "\n",
    "* indented code blocks are always preceded by a colon (``:``)\n",
    "\n",
    "* anything indented below this top line will occur within it. \n",
    "\n",
    "For example, the following two snippets will produce different results!"
   ]
  },
  {
   "cell_type": "code",
   "execution_count": null,
   "metadata": {
    "slideshow": {
     "slide_type": "fragment"
    }
   },
   "outputs": [],
   "source": [
    "x = 5\n",
    "if x < 4:\n",
    "    y = x * 2\n",
    "    print(x)"
   ]
  },
  {
   "cell_type": "code",
   "execution_count": null,
   "metadata": {
    "slideshow": {
     "slide_type": "fragment"
    }
   },
   "outputs": [],
   "source": [
    "x = 5\n",
    "if x < 4:\n",
    "    y = x * 2\n",
    "print(x)"
   ]
  },
  {
   "cell_type": "markdown",
   "metadata": {
    "slideshow": {
     "slide_type": "subslide"
    }
   },
   "source": [
    "Python's use of meaningful whitespace leads to much more consistent and readable code than languages that do not enforce indentation of code blocks.\n",
    "\n",
    "## Whitespace *within* lines does not matter\n",
    "While the mantra of *meaningful whitespace* holds true for whitespace *before* lines (which indicate a code block), white space *within* lines of Python code does not matter.\n",
    "For example, all three of these expressions are equivalent:"
   ]
  },
  {
   "cell_type": "code",
   "execution_count": null,
   "metadata": {
    "slideshow": {
     "slide_type": "skip"
    }
   },
   "outputs": [],
   "source": [
    "x=1+2\n",
    "x = 1 + 2\n",
    "x             =        1    +                2"
   ]
  },
  {
   "cell_type": "markdown",
   "metadata": {
    "slideshow": {
     "slide_type": "skip"
    }
   },
   "source": [
    "Using whitespace effectively can lead to much more readable code, \n",
    "especially in cases where operators follow each other – compare the following two expressions for exponentiating by a negative number:\n",
    "``` python\n",
    "x=10**-2\n",
    "```\n",
    "to\n",
    "``` python\n",
    "x = 10 ** -2\n",
    "```\n",
    "Most Python style guides recommend using a single space around binary operators, and no space around unary operators.\n",
    "We'll discuss Python's operators further in [Basic Python Semantics: Operators](04-Semantics-Operators.ipynb).\n",
    "\n",
    "## Parentheses are for grouping or calling\n",
    "\n",
    "In the previous code snippet, we see two uses of parentheses.\n",
    "First, they can be used in the typical way to group statements or mathematical operations:"
   ]
  },
  {
   "cell_type": "code",
   "execution_count": null,
   "metadata": {
    "slideshow": {
     "slide_type": "fragment"
    }
   },
   "outputs": [],
   "source": [
    "2 * (3 + 4)"
   ]
  },
  {
   "cell_type": "markdown",
   "metadata": {
    "slideshow": {
     "slide_type": "subslide"
    }
   },
   "source": [
    "They can also be used to indicate that a *function* is being called."
   ]
  },
  {
   "cell_type": "code",
   "execution_count": null,
   "metadata": {
    "slideshow": {
     "slide_type": "fragment"
    }
   },
   "outputs": [],
   "source": [
    "# example\n",
    "L = [4,2,3,1]\n",
    "L.sort()\n",
    "print(L)"
   ]
  },
  {
   "cell_type": "markdown",
   "metadata": {
    "slideshow": {
     "slide_type": "fragment"
    }
   },
   "source": [
    "The \"``()``\" after ``sort`` indicates that the function should be executed, and is required even if no arguments are necessary.\n",
    "\n",
    "## Strings\n",
    "\n",
    "One of the most simple and important aspects of python you will be using constantly will be strings! \n",
    "\n",
    "Strings are designated by single or double quotation marks. \n",
    "\n",
    "``` python\n",
    "\n",
    "\"This is my python string\" \n",
    "\n",
    "'This is my second python string'\n",
    "``` \n",
    "\n",
    "We will be using 'strings' throughout our whole Python lifetime. \n",
    "\n",
    "Things to remember:\n",
    "\n",
    "* Strings are not numbers. You'd have to convert them to a number. "
   ]
  },
  {
   "cell_type": "code",
   "execution_count": null,
   "metadata": {
    "slideshow": {
     "slide_type": "skip"
    }
   },
   "outputs": [],
   "source": [
    "x = \"4\" \n",
    "print(\"String: \", type(x),      x)\n",
    "\n",
    "x = int(x)\n",
    "print(\"Integer: \", type(x),    x)\n",
    "\n",
    "x = float(x)\n",
    "print(\"Float: \", type(x),    x)"
   ]
  },
  {
   "cell_type": "markdown",
   "metadata": {
    "slideshow": {
     "slide_type": "slide"
    }
   },
   "source": [
    "### Triple quotation strings\n",
    "\n",
    "You may find that some Python code will have strings with triple quotation marks: \n",
    "``` python\n",
    "\"\"\"This is a multiline\n",
    "string\"\"\"\n",
    "'''This is also a multiline\n",
    "      string'''\n",
    "```\n",
    "\n",
    "These can be used for multiline strings. They are also used for so-called [docstrings](https://en.wikipedia.org/wiki/Docstring#:~:text=In%20programming%2C%20a%20docstring%20is,a%20specific%20segment%20of%20code.) - strings that help you document your code. But we don't need to worry about these for now!\n",
    "\n",
    "\n",
    "\n",
    "## A note on a ``print()`` function\n",
    "\n",
    "Above we used the example of the ``print()`` function.\n",
    "The ``print()`` function is one piece that has changed between Python *2.x* and Python *3.x*. In Python 2, ``print`` behaved as a statement: that is, you could write\n",
    "``` python\n",
    "# Python 2 only!\n",
    ">> print \"first value:\", 1\n",
    "first value: 1\n",
    "```\n",
    "For various reasons, the language maintainers decided that in Python 3 ``print()`` should become a function, so we now write\n",
    "``` python\n",
    "# Python 3 only!\n",
    ">>> print(\"first value:\", 1)\n",
    "first value: 1\n",
    "```\n",
    "This is one of the many backward-incompatible constructs between Python 2 and 3.\n",
    "\n",
    "## References\n",
    "* The most widely used style guide in Python is known as PEP8, and can be found at https://www.python.org/dev/peps/pep-0008/.\n",
    "\n",
    "* *A Whirlwind Tour of Python* by Jake VanderPlas (O’Reilly). Copyright 2016 O’Reilly Media, Inc., 978-1-491-96465-1"
   ]
  }
 ],
 "metadata": {
  "anaconda-cloud": {},
  "kernelspec": {
   "display_name": "Python 3",
   "language": "python",
   "name": "python3"
  },
  "language_info": {
   "codemirror_mode": {
    "name": "ipython",
    "version": 3
   },
   "file_extension": ".py",
   "mimetype": "text/x-python",
   "name": "python",
   "nbconvert_exporter": "python",
   "pygments_lexer": "ipython3",
   "version": "3.8.6"
  }
 },
 "nbformat": 4,
 "nbformat_minor": 1
}
